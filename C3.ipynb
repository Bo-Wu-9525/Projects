{
 "cells": [
  {
   "cell_type": "code",
   "execution_count": 48,
   "id": "05ccb774",
   "metadata": {},
   "outputs": [],
   "source": [
    "import pandas as pd\n",
    "import seaborn as sns\n",
    "import matplotlib.pyplot as plt\n",
    "import numpy as np\n",
    "%matplotlib inline"
   ]
  },
  {
   "cell_type": "code",
   "execution_count": 49,
   "id": "d4655819",
   "metadata": {},
   "outputs": [],
   "source": [
    "df=pd.read_csv('adult.csv')"
   ]
  },
  {
   "cell_type": "code",
   "execution_count": 50,
   "id": "b2faf3d9",
   "metadata": {},
   "outputs": [
    {
     "data": {
      "text/html": [
       "<div>\n",
       "<style scoped>\n",
       "    .dataframe tbody tr th:only-of-type {\n",
       "        vertical-align: middle;\n",
       "    }\n",
       "\n",
       "    .dataframe tbody tr th {\n",
       "        vertical-align: top;\n",
       "    }\n",
       "\n",
       "    .dataframe thead th {\n",
       "        text-align: right;\n",
       "    }\n",
       "</style>\n",
       "<table border=\"1\" class=\"dataframe\">\n",
       "  <thead>\n",
       "    <tr style=\"text-align: right;\">\n",
       "      <th></th>\n",
       "      <th>age</th>\n",
       "      <th>workclass</th>\n",
       "      <th>fnlwgt</th>\n",
       "      <th>education</th>\n",
       "      <th>education-num</th>\n",
       "      <th>marital_status</th>\n",
       "      <th>occupation</th>\n",
       "      <th>relationship</th>\n",
       "      <th>race</th>\n",
       "      <th>sex</th>\n",
       "      <th>capital-gain</th>\n",
       "      <th>capital-loss</th>\n",
       "      <th>hours-per-week</th>\n",
       "      <th>native-country</th>\n",
       "      <th>income</th>\n",
       "    </tr>\n",
       "  </thead>\n",
       "  <tbody>\n",
       "    <tr>\n",
       "      <th>0</th>\n",
       "      <td>39</td>\n",
       "      <td>State-gov</td>\n",
       "      <td>77516</td>\n",
       "      <td>Bachelors</td>\n",
       "      <td>13</td>\n",
       "      <td>Never-married</td>\n",
       "      <td>Adm-clerical</td>\n",
       "      <td>Not-in-family</td>\n",
       "      <td>White</td>\n",
       "      <td>Male</td>\n",
       "      <td>2174</td>\n",
       "      <td>0</td>\n",
       "      <td>40</td>\n",
       "      <td>United-States</td>\n",
       "      <td>&lt;=50K</td>\n",
       "    </tr>\n",
       "    <tr>\n",
       "      <th>1</th>\n",
       "      <td>50</td>\n",
       "      <td>Self-emp-not-inc</td>\n",
       "      <td>83311</td>\n",
       "      <td>Bachelors</td>\n",
       "      <td>13</td>\n",
       "      <td>Married-civ-spouse</td>\n",
       "      <td>Exec-managerial</td>\n",
       "      <td>Husband</td>\n",
       "      <td>White</td>\n",
       "      <td>Male</td>\n",
       "      <td>0</td>\n",
       "      <td>0</td>\n",
       "      <td>13</td>\n",
       "      <td>United-States</td>\n",
       "      <td>&lt;=50K</td>\n",
       "    </tr>\n",
       "    <tr>\n",
       "      <th>2</th>\n",
       "      <td>38</td>\n",
       "      <td>Private</td>\n",
       "      <td>215646</td>\n",
       "      <td>HS-grad</td>\n",
       "      <td>9</td>\n",
       "      <td>Divorced</td>\n",
       "      <td>Handlers-cleaners</td>\n",
       "      <td>Not-in-family</td>\n",
       "      <td>White</td>\n",
       "      <td>Male</td>\n",
       "      <td>0</td>\n",
       "      <td>0</td>\n",
       "      <td>40</td>\n",
       "      <td>United-States</td>\n",
       "      <td>&lt;=50K</td>\n",
       "    </tr>\n",
       "    <tr>\n",
       "      <th>3</th>\n",
       "      <td>53</td>\n",
       "      <td>Private</td>\n",
       "      <td>234721</td>\n",
       "      <td>11th</td>\n",
       "      <td>7</td>\n",
       "      <td>Married-civ-spouse</td>\n",
       "      <td>Handlers-cleaners</td>\n",
       "      <td>Husband</td>\n",
       "      <td>Black</td>\n",
       "      <td>Male</td>\n",
       "      <td>0</td>\n",
       "      <td>0</td>\n",
       "      <td>40</td>\n",
       "      <td>United-States</td>\n",
       "      <td>&lt;=50K</td>\n",
       "    </tr>\n",
       "    <tr>\n",
       "      <th>4</th>\n",
       "      <td>28</td>\n",
       "      <td>Private</td>\n",
       "      <td>338409</td>\n",
       "      <td>Bachelors</td>\n",
       "      <td>13</td>\n",
       "      <td>Married-civ-spouse</td>\n",
       "      <td>Prof-specialty</td>\n",
       "      <td>Wife</td>\n",
       "      <td>Black</td>\n",
       "      <td>Female</td>\n",
       "      <td>0</td>\n",
       "      <td>0</td>\n",
       "      <td>40</td>\n",
       "      <td>Cuba</td>\n",
       "      <td>&lt;=50K</td>\n",
       "    </tr>\n",
       "  </tbody>\n",
       "</table>\n",
       "</div>"
      ],
      "text/plain": [
       "   age          workclass  fnlwgt   education  education-num  \\\n",
       "0   39          State-gov   77516   Bachelors             13   \n",
       "1   50   Self-emp-not-inc   83311   Bachelors             13   \n",
       "2   38            Private  215646     HS-grad              9   \n",
       "3   53            Private  234721        11th              7   \n",
       "4   28            Private  338409   Bachelors             13   \n",
       "\n",
       "        marital_status          occupation    relationship    race      sex  \\\n",
       "0        Never-married        Adm-clerical   Not-in-family   White     Male   \n",
       "1   Married-civ-spouse     Exec-managerial         Husband   White     Male   \n",
       "2             Divorced   Handlers-cleaners   Not-in-family   White     Male   \n",
       "3   Married-civ-spouse   Handlers-cleaners         Husband   Black     Male   \n",
       "4   Married-civ-spouse      Prof-specialty            Wife   Black   Female   \n",
       "\n",
       "   capital-gain  capital-loss  hours-per-week  native-country  income  \n",
       "0          2174             0              40   United-States   <=50K  \n",
       "1             0             0              13   United-States   <=50K  \n",
       "2             0             0              40   United-States   <=50K  \n",
       "3             0             0              40   United-States   <=50K  \n",
       "4             0             0              40            Cuba   <=50K  "
      ]
     },
     "execution_count": 50,
     "metadata": {},
     "output_type": "execute_result"
    }
   ],
   "source": [
    "df.head()"
   ]
  },
  {
   "cell_type": "code",
   "execution_count": 51,
   "id": "3bb304e0",
   "metadata": {},
   "outputs": [
    {
     "data": {
      "text/plain": [
       " <=50K    12097\n",
       " >50K      3819\n",
       "Name: income, dtype: int64"
      ]
     },
     "execution_count": 51,
     "metadata": {},
     "output_type": "execute_result"
    }
   ],
   "source": [
    "# Checking the different levels of income\n",
    "df['income'].value_counts()"
   ]
  },
  {
   "cell_type": "code",
   "execution_count": 52,
   "id": "3c687c3e",
   "metadata": {},
   "outputs": [],
   "source": [
    "# Converting income to binary class 1 and 0, 1 means the income is greater than 50K, otherwise 0\n",
    "df.loc[df.income==' <=50K','income']=0\n",
    "df.loc[df.income==' >50K','income']=1"
   ]
  },
  {
   "cell_type": "code",
   "execution_count": 53,
   "id": "38a8933d",
   "metadata": {},
   "outputs": [],
   "source": [
    "# Store variables that needs to convert to dummies, it would be easier if changes are to be made in this process\n",
    "to_dummy=['workclass','marital_status','occupation','relationship','race','sex','native-country']\n",
    "newdf=pd.get_dummies(df,columns=to_dummy)"
   ]
  },
  {
   "cell_type": "code",
   "execution_count": 54,
   "id": "d4935985",
   "metadata": {},
   "outputs": [],
   "source": [
    "# Exclude education for now since it's throwing off errors that cannot be coped with at the moment\n",
    "# Since education-num captures the years of education, we still have information on each individuals' education level\n",
    "exclude_var=['income','education']\n",
    "X=newdf.drop(exclude_var,axis=1)\n",
    "y=newdf['income'].astype('int')"
   ]
  },
  {
   "cell_type": "code",
   "execution_count": 55,
   "id": "5e46efdf",
   "metadata": {},
   "outputs": [],
   "source": [
    "#Tried this method to deal with earlier errors but did not work\n",
    "#newdf=pd.to_numeric(newdf.columns[7:], errors='ignore',downcast=\"integer\")"
   ]
  },
  {
   "cell_type": "code",
   "execution_count": 56,
   "id": "105e1328",
   "metadata": {},
   "outputs": [],
   "source": [
    "# Train test split\n",
    "from sklearn.model_selection import train_test_split\n",
    "X_train, X_test, y_train, y_test = train_test_split(X, y, test_size=0.30, random_state=6120)"
   ]
  },
  {
   "cell_type": "code",
   "execution_count": 57,
   "id": "71f0b982",
   "metadata": {},
   "outputs": [
    {
     "data": {
      "image/png": "[encoded data removed]",
      "text/plain": [
       "<Figure size 432x288 with 1 Axes>"
      ]
     },
     "metadata": {
      "needs_background": "light"
     },
     "output_type": "display_data"
    }
   ],
   "source": [
    "from sklearn.tree import DecisionTreeClassifier\n",
    "from sklearn.tree import plot_tree\n",
    "\n",
    "#train a very simple model\n",
    "tree_1 = DecisionTreeClassifier(random_state=0, max_depth=1) #max_depth limits the tree to one split\n",
    "tree_1.fit(X_train, y_train)\n",
    "\n",
    "\n",
    "\n",
    "#let's plot it\n",
    "plot_tree(tree_1, feature_names=X.columns,  \n",
    "                   class_names=['>50K', '<=50K'],\n",
    "                      filled=True\n",
    "                   )\n",
    "\n",
    "plt.show() #if you remove this it will produce the text behind the tree as well."
   ]
  },
  {
   "cell_type": "code",
   "execution_count": 58,
   "id": "a20fc28e",
   "metadata": {},
   "outputs": [
    {
     "name": "stdout",
     "output_type": "stream",
     "text": [
      "              precision    recall  f1-score   support\n",
      "\n",
      "           0       0.76      1.00      0.86      8476\n",
      "           1       0.00      0.00      0.00      2665\n",
      "\n",
      "    accuracy                           0.76     11141\n",
      "   macro avg       0.38      0.50      0.43     11141\n",
      "weighted avg       0.58      0.76      0.66     11141\n",
      "\n",
      "              precision    recall  f1-score   support\n",
      "\n",
      "           0       0.76      1.00      0.86      3621\n",
      "           1       0.00      0.00      0.00      1154\n",
      "\n",
      "    accuracy                           0.76      4775\n",
      "   macro avg       0.38      0.50      0.43      4775\n",
      "weighted avg       0.58      0.76      0.65      4775\n",
      "\n"
     ]
    },
    {
     "name": "stderr",
     "output_type": "stream",
     "text": [
      "D:\\Anaconda\\lib\\site-packages\\sklearn\\metrics\\_classification.py:1308: UndefinedMetricWarning: Precision and F-score are ill-defined and being set to 0.0 in labels with no predicted samples. Use `zero_division` parameter to control this behavior.\n",
      "  _warn_prf(average, modifier, msg_start, len(result))\n",
      "D:\\Anaconda\\lib\\site-packages\\sklearn\\metrics\\_classification.py:1308: UndefinedMetricWarning: Precision and F-score are ill-defined and being set to 0.0 in labels with no predicted samples. Use `zero_division` parameter to control this behavior.\n",
      "  _warn_prf(average, modifier, msg_start, len(result))\n",
      "D:\\Anaconda\\lib\\site-packages\\sklearn\\metrics\\_classification.py:1308: UndefinedMetricWarning: Precision and F-score are ill-defined and being set to 0.0 in labels with no predicted samples. Use `zero_division` parameter to control this behavior.\n",
      "  _warn_prf(average, modifier, msg_start, len(result))\n",
      "D:\\Anaconda\\lib\\site-packages\\sklearn\\metrics\\_classification.py:1308: UndefinedMetricWarning: Precision and F-score are ill-defined and being set to 0.0 in labels with no predicted samples. Use `zero_division` parameter to control this behavior.\n",
      "  _warn_prf(average, modifier, msg_start, len(result))\n",
      "D:\\Anaconda\\lib\\site-packages\\sklearn\\metrics\\_classification.py:1308: UndefinedMetricWarning: Precision and F-score are ill-defined and being set to 0.0 in labels with no predicted samples. Use `zero_division` parameter to control this behavior.\n",
      "  _warn_prf(average, modifier, msg_start, len(result))\n",
      "D:\\Anaconda\\lib\\site-packages\\sklearn\\metrics\\_classification.py:1308: UndefinedMetricWarning: Precision and F-score are ill-defined and being set to 0.0 in labels with no predicted samples. Use `zero_division` parameter to control this behavior.\n",
      "  _warn_prf(average, modifier, msg_start, len(result))\n"
     ]
    }
   ],
   "source": [
    "# Use classification report, just a personal preference. It seems everyone is classified as having income less than or equal to 50K\n",
    "from sklearn.metrics import classification_report,confusion_matrix\n",
    "print(classification_report(y_train,tree_1.predict(X_train)))\n",
    "print(classification_report(y_test,tree_1.predict(X_test)))"
   ]
  },
  {
   "cell_type": "code",
   "execution_count": 59,
   "id": "485b19cf",
   "metadata": {},
   "outputs": [
    {
     "name": "stdout",
     "output_type": "stream",
     "text": [
      "              precision    recall  f1-score   support\n",
      "\n",
      "           0       1.00      1.00      1.00      8476\n",
      "           1       1.00      1.00      1.00      2665\n",
      "\n",
      "    accuracy                           1.00     11141\n",
      "   macro avg       1.00      1.00      1.00     11141\n",
      "weighted avg       1.00      1.00      1.00     11141\n",
      "\n",
      "              precision    recall  f1-score   support\n",
      "\n",
      "           0       0.88      0.93      0.91      3621\n",
      "           1       0.75      0.60      0.67      1154\n",
      "\n",
      "    accuracy                           0.85      4775\n",
      "   macro avg       0.81      0.77      0.79      4775\n",
      "weighted avg       0.85      0.85      0.85      4775\n",
      "\n"
     ]
    }
   ],
   "source": [
    "# Bagging Model\n",
    "from sklearn.ensemble import BaggingClassifier\n",
    "\n",
    "bagging = BaggingClassifier(DecisionTreeClassifier(), n_estimators=100)\n",
    "bagging.fit(X_train, y_train)\n",
    "\n",
    "print(classification_report(y_train,bagging.predict(X_train)))\n",
    "print(classification_report(y_test,bagging.predict(X_test)))"
   ]
  },
  {
   "cell_type": "markdown",
   "id": "96d7950e",
   "metadata": {},
   "source": [
    "The model definitely seems to be overfit, given the model's perfect performance on train dataset but less desireable performance in the test set, especially a poorer performance in class 1 of target variable (income >50K)."
   ]
  },
  {
   "cell_type": "code",
   "execution_count": 60,
   "id": "377d9777",
   "metadata": {},
   "outputs": [
    {
     "name": "stdout",
     "output_type": "stream",
     "text": [
      "              precision    recall  f1-score   support\n",
      "\n",
      "           0       1.00      1.00      1.00      8476\n",
      "           1       1.00      1.00      1.00      2665\n",
      "\n",
      "    accuracy                           1.00     11141\n",
      "   macro avg       1.00      1.00      1.00     11141\n",
      "weighted avg       1.00      1.00      1.00     11141\n",
      "\n",
      "              precision    recall  f1-score   support\n",
      "\n",
      "           0       0.88      0.87      0.87      3621\n",
      "           1       0.60      0.62      0.61      1154\n",
      "\n",
      "    accuracy                           0.81      4775\n",
      "   macro avg       0.74      0.74      0.74      4775\n",
      "weighted avg       0.81      0.81      0.81      4775\n",
      "\n"
     ]
    }
   ],
   "source": [
    "from sklearn.ensemble import AdaBoostClassifier\n",
    "\n",
    "boosting = AdaBoostClassifier(DecisionTreeClassifier(), n_estimators=100)\n",
    "boosting.fit(X_train, y_train)\n",
    "\n",
    "print(classification_report(y_train,boosting.predict(X_train)))\n",
    "print(classification_report(y_test,boosting.predict(X_test)))"
   ]
  },
  {
   "cell_type": "markdown",
   "id": "73a1630e",
   "metadata": {},
   "source": [
    "Same issue spotted in AdaBoost. Let's try to see if we can improve the decision tree with gridsearch."
   ]
  },
  {
   "cell_type": "code",
   "execution_count": 61,
   "id": "b6aa2f2c",
   "metadata": {},
   "outputs": [
    {
     "name": "stdout",
     "output_type": "stream",
     "text": [
      "Initial score:  0.850282710444097\n",
      "Initial parameters:  {'max_depth': 10, 'min_impurity_decrease': 0.001, 'min_samples_split': 10}\n"
     ]
    }
   ],
   "source": [
    "from sklearn.model_selection import GridSearchCV\n",
    "\n",
    "# Start with an initial guess for parameters - with a larger dataset, you'd want many more parameters!\n",
    "param_grid = {\n",
    "'max_depth': [5, 10, 15, 20, 25],\n",
    "'min_samples_split': [10, 20, 30, 40, 50],\n",
    "'min_impurity_decrease': [0, 0.0005, 0.001, 0.005],\n",
    "}\n",
    "gridSearch = GridSearchCV(DecisionTreeClassifier(random_state=6120), param_grid, cv=5,\n",
    "n_jobs=-1) # n_jobs=-1 will utilize all available CPUs\n",
    "gridSearch.fit(X_train, y_train)\n",
    "print('Initial score: ', gridSearch.best_score_)\n",
    "print('Initial parameters: ', gridSearch.best_params_)\n",
    "\n",
    "bestRegTree = gridSearch.best_estimator_"
   ]
  },
  {
   "cell_type": "code",
   "execution_count": 62,
   "id": "1180fd8d",
   "metadata": {},
   "outputs": [
    {
     "name": "stdout",
     "output_type": "stream",
     "text": [
      "Improved score:  0.850282710444097\n",
      "Improved parameters:  {'max_depth': 9, 'min_impurity_decrease': 0.00095, 'min_samples_split': 6}\n"
     ]
    }
   ],
   "source": [
    "#let's try narrowing in\n",
    "param_grid = {\n",
    "'max_depth': [8, 9, 10, 11, 12, 13],\n",
    "'min_samples_split': [6, 8, 10, 12, 14],\n",
    "'min_impurity_decrease': [0.0009, 0.00095, 0.001, 0.0015, 0.002],\n",
    "}\n",
    "\n",
    "gridSearch = GridSearchCV(DecisionTreeClassifier(random_state=6120), param_grid, cv=5,\n",
    "n_jobs=-1) # n_jobs=-1 will utilize all available CPUs\n",
    "gridSearch.fit(X_train, y_train)\n",
    "print('Improved score: ', gridSearch.best_score_)\n",
    "print('Improved parameters: ', gridSearch.best_params_)\n",
    "\n",
    "bestdTree = gridSearch.best_estimator_"
   ]
  },
  {
   "cell_type": "code",
   "execution_count": 63,
   "id": "51cd422b",
   "metadata": {},
   "outputs": [
    {
     "name": "stdout",
     "output_type": "stream",
     "text": [
      "              precision    recall  f1-score   support\n",
      "\n",
      "           0       0.87      0.95      0.91      8476\n",
      "           1       0.78      0.54      0.64      2665\n",
      "\n",
      "    accuracy                           0.85     11141\n",
      "   macro avg       0.83      0.75      0.78     11141\n",
      "weighted avg       0.85      0.85      0.84     11141\n",
      "\n",
      "              precision    recall  f1-score   support\n",
      "\n",
      "           0       0.86      0.95      0.91      3621\n",
      "           1       0.78      0.53      0.63      1154\n",
      "\n",
      "    accuracy                           0.85      4775\n",
      "   macro avg       0.82      0.74      0.77      4775\n",
      "weighted avg       0.84      0.85      0.84      4775\n",
      "\n"
     ]
    }
   ],
   "source": [
    "# Best decision tree performance on train and test set\n",
    "print(classification_report(y_train,bestdTree.predict(X_train)))\n",
    "print(classification_report(y_test,bestdTree.predict(X_test)))"
   ]
  },
  {
   "cell_type": "code",
   "execution_count": 66,
   "id": "cdfb9970",
   "metadata": {},
   "outputs": [
    {
     "data": {
      "image/png": "[encoded data removed]",
      "text/plain": [
       "<Figure size 432x288 with 1 Axes>"
      ]
     },
     "metadata": {
      "needs_background": "light"
     },
     "output_type": "display_data"
    },
    {
     "data": {
      "text/plain": [
       "<Figure size 864x864 with 0 Axes>"
      ]
     },
     "metadata": {},
     "output_type": "display_data"
    }
   ],
   "source": [
    "#let's plot it, it's very hard to since at greater depth things can get out of hand pretty quickly\n",
    "#But here's the best combination of fontsize and figsize I found (at least the top depths are readable haha)\n",
    "plot_tree(bestdTree, feature_names=X.columns,  \n",
    "                   class_names=['>50K', '<=50K'],\n",
    "                      filled=True,\n",
    "          fontsize=6\n",
    "                   )\n",
    "plt.figure(figsize=(12,12))  # set plot size (denoted in inches)\n",
    "plt.show() #if you remove this it will produce the text behind the tree as well."
   ]
  },
  {
   "cell_type": "markdown",
   "id": "3f9a822d",
   "metadata": {},
   "source": [
    "The decision tree's performance has greatly improved, especially since it is no longer classfying everyone as having income no greater than 50K and the model has ok performance. Still, predicting class 1 seems to be difficult.\n",
    "Note that the best decision tree has a similar level of performance with bagged model in the test set, but does not suffer from the overfitting issue in train dataset.\n",
    "Let's try grid search on bagging."
   ]
  },
  {
   "cell_type": "code",
   "execution_count": 67,
   "id": "3662d84b",
   "metadata": {},
   "outputs": [],
   "source": [
    "# candidate parameters for bagging grid search\n",
    "bag_params = {'n_estimators': [80,100,120],\n",
    "          'max_samples': [0.5,1.0,1.5],\n",
    "          'max_features': [0.5,1.0,1.5]}"
   ]
  },
  {
   "cell_type": "code",
   "execution_count": 68,
   "id": "48b93fd5",
   "metadata": {},
   "outputs": [
    {
     "name": "stdout",
     "output_type": "stream",
     "text": [
      "Fitting 3 folds for each of 27 candidates, totalling 81 fits\n"
     ]
    },
    {
     "name": "stderr",
     "output_type": "stream",
     "text": [
      "D:\\Anaconda\\lib\\site-packages\\sklearn\\model_selection\\_validation.py:372: FitFailedWarning: \n",
      "45 fits failed out of a total of 81.\n",
      "The score on these train-test partitions for these parameters will be set to nan.\n",
      "If these failures are not expected, you can try to debug them by setting error_score='raise'.\n",
      "\n",
      "Below are more details about the failures:\n",
      "--------------------------------------------------------------------------------\n",
      "27 fits failed with the following error:\n",
      "Traceback (most recent call last):\n",
      "  File \"D:\\Anaconda\\lib\\site-packages\\sklearn\\model_selection\\_validation.py\", line 681, in _fit_and_score\n",
      "    estimator.fit(X_train, y_train, **fit_params)\n",
      "  File \"D:\\Anaconda\\lib\\site-packages\\sklearn\\ensemble\\_bagging.py\", line 269, in fit\n",
      "    return self._fit(X, y, self.max_samples, sample_weight=sample_weight)\n",
      "  File \"D:\\Anaconda\\lib\\site-packages\\sklearn\\ensemble\\_bagging.py\", line 328, in _fit\n",
      "    raise ValueError(\"max_samples must be in (0, n_samples]\")\n",
      "ValueError: max_samples must be in (0, n_samples]\n",
      "\n",
      "--------------------------------------------------------------------------------\n",
      "18 fits failed with the following error:\n",
      "Traceback (most recent call last):\n",
      "  File \"D:\\Anaconda\\lib\\site-packages\\sklearn\\model_selection\\_validation.py\", line 681, in _fit_and_score\n",
      "    estimator.fit(X_train, y_train, **fit_params)\n",
      "  File \"D:\\Anaconda\\lib\\site-packages\\sklearn\\ensemble\\_bagging.py\", line 269, in fit\n",
      "    return self._fit(X, y, self.max_samples, sample_weight=sample_weight)\n",
      "  File \"D:\\Anaconda\\lib\\site-packages\\sklearn\\ensemble\\_bagging.py\", line 342, in _fit\n",
      "    raise ValueError(\"max_features must be in (0, n_features]\")\n",
      "ValueError: max_features must be in (0, n_features]\n",
      "\n",
      "  warnings.warn(some_fits_failed_message, FitFailedWarning)\n",
      "D:\\Anaconda\\lib\\site-packages\\sklearn\\model_selection\\_search.py:969: UserWarning: One or more of the test scores are non-finite: [0.85710394 0.85827082 0.85791192 0.85907877 0.8584501  0.8580912\n",
      "        nan        nan        nan 0.84983413 0.8482185  0.84947518\n",
      " 0.84453793 0.84543558 0.84435848        nan        nan        nan\n",
      "        nan        nan        nan        nan        nan        nan\n",
      "        nan        nan        nan]\n",
      "  warnings.warn(\n"
     ]
    },
    {
     "name": "stdout",
     "output_type": "stream",
     "text": [
      "Improved score:  0.8590787688330401\n",
      "Improved parameters:  {'max_features': 0.5, 'max_samples': 1.0, 'n_estimators': 80}\n"
     ]
    }
   ],
   "source": [
    "# Initialize the gridsearch and fit on training data to see best parameters\n",
    "bagging_grid = GridSearchCV(BaggingClassifier(DecisionTreeClassifier(),random_state=6120), param_grid =bag_params, cv=3, n_jobs=-1, verbose=1)\n",
    "bagging_grid.fit(X_train, y_train)\n",
    "print('Improved score: ', bagging_grid.best_score_)\n",
    "print('Improved parameters: ', bagging_grid.best_params_)"
   ]
  },
  {
   "cell_type": "code",
   "execution_count": 69,
   "id": "363a6be5",
   "metadata": {},
   "outputs": [
    {
     "name": "stdout",
     "output_type": "stream",
     "text": [
      "Fitting 3 folds for each of 27 candidates, totalling 81 fits\n"
     ]
    },
    {
     "name": "stderr",
     "output_type": "stream",
     "text": [
      "D:\\Anaconda\\lib\\site-packages\\sklearn\\model_selection\\_validation.py:372: FitFailedWarning: \n",
      "27 fits failed out of a total of 81.\n",
      "The score on these train-test partitions for these parameters will be set to nan.\n",
      "If these failures are not expected, you can try to debug them by setting error_score='raise'.\n",
      "\n",
      "Below are more details about the failures:\n",
      "--------------------------------------------------------------------------------\n",
      "27 fits failed with the following error:\n",
      "Traceback (most recent call last):\n",
      "  File \"D:\\Anaconda\\lib\\site-packages\\sklearn\\model_selection\\_validation.py\", line 681, in _fit_and_score\n",
      "    estimator.fit(X_train, y_train, **fit_params)\n",
      "  File \"D:\\Anaconda\\lib\\site-packages\\sklearn\\ensemble\\_bagging.py\", line 269, in fit\n",
      "    return self._fit(X, y, self.max_samples, sample_weight=sample_weight)\n",
      "  File \"D:\\Anaconda\\lib\\site-packages\\sklearn\\ensemble\\_bagging.py\", line 328, in _fit\n",
      "    raise ValueError(\"max_samples must be in (0, n_samples]\")\n",
      "ValueError: max_samples must be in (0, n_samples]\n",
      "\n",
      "  warnings.warn(some_fits_failed_message, FitFailedWarning)\n",
      "D:\\Anaconda\\lib\\site-packages\\sklearn\\model_selection\\_search.py:969: UserWarning: One or more of the test scores are non-finite: [0.82909928 0.83295896 0.83188186 0.82927883 0.83286933 0.830715\n",
      "        nan        nan        nan 0.85459078 0.85719374 0.85791165\n",
      " 0.85584753 0.85907877 0.85827068        nan        nan        nan\n",
      " 0.85252652 0.85297528 0.85405238 0.85091097 0.8522573  0.85306503\n",
      "        nan        nan        nan]\n",
      "  warnings.warn(\n"
     ]
    },
    {
     "name": "stdout",
     "output_type": "stream",
     "text": [
      "Improved score:  0.8590787688330401\n",
      "Improved parameters:  {'max_features': 0.5, 'max_samples': 1.0, 'n_estimators': 80}\n"
     ]
    }
   ],
   "source": [
    "#Narrowing down on parameters and one more gridsearch\n",
    "bag_params = {'n_estimators': [70,80,90],\n",
    "          'max_samples': [0.75,1.0,1.25],\n",
    "          'max_features': [0.25,0.5,0.75]}\n",
    "bagging_grid = GridSearchCV(BaggingClassifier(DecisionTreeClassifier(),random_state=6120), param_grid =bag_params, cv=3, n_jobs=-1, verbose=1)\n",
    "bagging_grid.fit(X_train, y_train)\n",
    "print('Improved score: ', bagging_grid.best_score_)\n",
    "print('Improved parameters: ', bagging_grid.best_params_)"
   ]
  },
  {
   "cell_type": "code",
   "execution_count": 70,
   "id": "e30d6450",
   "metadata": {},
   "outputs": [
    {
     "name": "stdout",
     "output_type": "stream",
     "text": [
      "              precision    recall  f1-score   support\n",
      "\n",
      "           0       0.99      1.00      1.00      8476\n",
      "           1       1.00      0.97      0.99      2665\n",
      "\n",
      "    accuracy                           0.99     11141\n",
      "   macro avg       1.00      0.99      0.99     11141\n",
      "weighted avg       0.99      0.99      0.99     11141\n",
      "\n",
      "              precision    recall  f1-score   support\n",
      "\n",
      "           0       0.88      0.95      0.91      3621\n",
      "           1       0.80      0.58      0.67      1154\n",
      "\n",
      "    accuracy                           0.86      4775\n",
      "   macro avg       0.84      0.77      0.79      4775\n",
      "weighted avg       0.86      0.86      0.85      4775\n",
      "\n"
     ]
    }
   ],
   "source": [
    "# The result is the same as the previous run, let's see the performance\n",
    "best_bagging = bagging_grid.best_estimator_\n",
    "print(classification_report(y_train,best_bagging.predict(X_train)))\n",
    "print(classification_report(y_test,best_bagging.predict(X_test)))"
   ]
  },
  {
   "cell_type": "markdown",
   "id": "a2b15cb1",
   "metadata": {},
   "source": [
    "The overfitting issue on train dataset is still present, however there is slight improvement for test set performance."
   ]
  }
 ],
 "metadata": {
  "kernelspec": {
   "display_name": "Python 3",
   "language": "python",
   "name": "python3"
  },
  "language_info": {
   "codemirror_mode": {
    "name": "ipython",
    "version": 3
   },
   "file_extension": ".py",
   "mimetype": "text/x-python",
   "name": "python",
   "nbconvert_exporter": "python",
   "pygments_lexer": "ipython3",
   "version": "3.9.5"
  }
 },
 "nbformat": 4,
 "nbformat_minor": 5
}
