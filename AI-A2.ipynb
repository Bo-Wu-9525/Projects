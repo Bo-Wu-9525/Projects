{
 "cells": [
  {
   "cell_type": "markdown",
   "metadata": {},
   "source": [
    "# AI I - Assignment 2\n",
    "\n",
    "This assignment requires you to use [Tensorflow](https://www.tensorflow.org) and [Keras](https://keras.io/). Keras is a high-level Deep Learning API written in Python working as an interface to TensorFlow.\n",
    "\n",
    "This assignment is divided in two parts. In the first part you will learn about Keras with the help of the example below and the Keras [documentation](https://keras.io/). In the second part, you will practise training a Deep Learning model.\n",
    "\n",
    "## How to submit\n",
    "Submit by uploading this notebook to Canvas. It should include **plots**, **results** and **code** showing how the results were genereated.  Remember to name your file(s) appropriately.\n",
    "It is due on March 18, 2021, at 8:30 am.\n",
    "\n",
    "## Installation\n",
    "Instructions can be found here:\n",
    "* [Tensorflow](https://www.tensorflow.org/install/)\n",
    "\n",
    "Since Tensorflow 2.0, Keras is included in Tensorflow and will be automatically installed with Tensorflow. It can be accessed as ```tensorflow.keras```\n",
    "\n",
    "I recommend installing using ```pip```. For Tensorflow is it sufficient to install the CPU version. The GPU version requires a good workstation with high-end Nvidia GPU(s), and it is not necessary for this tutorial.\n",
    "\n",
    "If you're using a virtualenv:\n",
    "```\n",
    "pip3 install tensorflow\n",
    "```\n",
    "Add ```sudo``` for a systemwide installation (i.e. no ```virtualenv```).\n",
    "```\n",
    "sudo pip3 install tensorflow\n",
    "```\n",
    "Make sure that you have ```sklearn```, ```matplotlib``` and ```numpy``` installed, too.\n",
    "\n",
    "\n",
    "## Part 1 - understand a model\n",
    "\n",
    "### Optimizers\n",
    "\n",
    "Loss is the penalty for a bad prediction. That is, loss is a number indicating how bad the model's prediction was on a single example. If the model's prediction is perfect, the loss is zero; otherwise, the loss is greater than zero. The goal of training a model is to find a set of weights and biases (i.e. parameters) that have, on average, a low loss across all examples. The term cost is used interchangably with loss. See the [loss section](https://keras.io/losses/) in the Keras documentation for a list and descriptions of what is available.\n",
    "\n",
    "![Side by side loss](https://drive.google.com/uc?id=1DdbQEQLCLCSw4uPsuf0C1nJCfUICT0Ae)\n",
    "<b>Figure 1.</b> Left: high loss and right: low loss.\n",
    "\n",
    "<!-- https://drive.google.com/file/d/1DdbQEQLCLCSw4uPsuf0C1nJCfUICT0Ae/view?usp=sharing\n",
    "<img src=\"./fig/LossSideBySide.png\" width=\"500\">\n",
    "<figcaption>Figure. Left: high loss and right: low loss.</figcaption>\n",
    " -->\n",
    "The optimizer is the algorithm used to minimize the loss/cost. Optimizers in neural networks work by finding the gradient/derivative of the loss with respect to the parameters (i.e. the weights). \"Gradient\" is the correct term since a we are looking at multi-dimensional systems (i.e. many parameters), however, the terms are often used interchangably. For those who didn't take multivariate calculus, just think of the gradient as a derivative. The derivative of the loss with respect to a parameters tells us how much the loss changes when we nudge a weight up or down. So, by knowing how a given parameter affects the loss the optimizer can change it so as to decrease the loss. The various optimizers differ in how they change the weights. \n",
    "\n",
    "#### Mini-overview over popular optimizers\n",
    "\n",
    "* **Stochastic Gradient Descent (SGD)**. This is the most basic and easy to understand optimizer. It updates the weights in the negative direction of the gradient by taking the average gradient of mini-batch of data (e.g. 20-1000 examples) in each step. Vanilla SGD only has one hyper-parameter, the learning rate.\n",
    "* **Momentum**. This optimizer \"gains speed\" when the gradient has pointed in the same direction for several consecutive updates. That is, it has a momentum and want to keep moving in that direction. It gains momentum by accumulating an exponentially decaying moving average of past gradients. The step size depends on how large and aligned the sequence of gradients are. The most important hyper-parameter is alpha and common values are 0.5 and 0.9.\n",
    "* **Nesterov Momentum**. This is a modification of the standard momentum optimizer.\n",
    "* **AdaGrad**. This optimizer Ada-ptively sets the learning rate depending on the steepness/magnitude of the Grad-ients. This is done so that weights with big gradients get a smaller effective learning rate, and weights with small gradients will get a greater effective learning rate. The result is quicker progress in the more gently sloped directions of the weight space and a slowdown in stepp regions.\n",
    "* **RMSProp**. This is modification of AdaGrad, where the accumulated gradient decays, that is, the influence of previous gradients gradually decreases.\n",
    "* **Adam**. The name comes from \"adaptive moments\", and it is a combination of RMSProp and momentum. It has several hyper-parameters.\n",
    "\n",
    "The above list just gives a quick overview of some of the most common. However, old optimizers are constantly improved and new are developed. SGD and momentum are most basic and easiest to understand and implement. They are still in use, but the more advanced optimizers tend to be better for practical use. Which one to use is generally an emperical question depending on both the data and the model.\n",
    "\n",
    "For a more complete overview of optimization algorithms see [this comparison](http://ruder.io/optimizing-gradient-descent/), and to see what is available in Keras, see the [optimizer section](https://keras.io/optimizers/) of the documentation.\n",
    "\n",
    "See the images below for a comparison of optimizers in a 2D space (NAG: Nesterov accelerated gradient, Adadelta: an extension of AdaGrad).\n",
    "\n",
    "![Contours - optimizer comparison](https://drive.google.com/uc?id=1CmrD-UPZ7EIUjRuO_ib7k9CL1FO2bbLk)\n",
    "<b>Figure 2.</b> Comparison of six different optimizers.\n",
    "\n",
    "\n",
    "![Saddle point - optimizer comparison](https://drive.google.com/uc?id=1QVhN9rAvCjXtGyNZkmFivyyCzNsntObh)\n",
    "<b>Figure 3.</b> Comparison of six different optimizers at a saddle point.\n",
    "\n",
    "<!-- <img src=\"./fig/contours_evaluation_optimizers.gif\" width=\"500\">\n",
    "<img src=\"./fig/saddle_point_evaluation_optimizers.gif\" width=\"500\"> -->"
   ]
  },
  {
   "cell_type": "code",
   "execution_count": 1,
   "metadata": {},
   "outputs": [],
   "source": [
    "# imports\n",
    "import numpy as np\n",
    "from sklearn.datasets import fetch_openml\n",
    "from sklearn.model_selection import train_test_split\n",
    "import matplotlib.pyplot as plt\n",
    "# for the random seed\n",
    "import tensorflow as tf\n",
    "\n",
    "# set the random seeds to get reproducible results\n",
    "np.random.seed(1)\n",
    "tf.random.set_seed(2)\n",
    "\n",
    "# Load data from https://www.openml.org/d/554\n",
    "X, y = fetch_openml('mnist_784', version=1, return_X_y=True)\n",
    "X, y = X[:1000], y[:1000]\n",
    "X = X.values.reshape(X.shape[0], 28, 28, 1)\n",
    "# Normalize\n",
    "X = X / 255.\n",
    "# number of unique classes\n",
    "num_classes = len(np.unique(y))\n",
    "y = y.astype(int)\n",
    "\n",
    "X_train, X_test, y_train, y_test = train_test_split(X, y, test_size=.2, random_state=1)\n",
    "\n",
    "num_tot = y.shape[0]\n",
    "num_train = y_train.shape[0]\n",
    "num_test = y_test.shape[0]\n",
    "\n",
    "y_oh = np.zeros((num_tot, num_classes))\n",
    "y_oh[range(num_tot), y] = 1\n",
    "\n",
    "y_oh_train = np.zeros((num_train, num_classes))\n",
    "y_oh_train[range(num_train), y_train] = 1\n",
    "\n",
    "y_oh_test = np.zeros((num_test, num_classes))\n",
    "y_oh_test[range(num_test), y_test] = 1"
   ]
  },
  {
   "cell_type": "code",
   "execution_count": 2,
   "metadata": {},
   "outputs": [
    {
     "data": {
      "text/plain": [
       "<matplotlib.image.AxesImage at 0x11b22936c10>"
      ]
     },
     "execution_count": 2,
     "metadata": {},
     "output_type": "execute_result"
    },
    {
     "data": {
      "image/png": "[encoded data removed]",
      "text/plain": [
       "<Figure size 432x288 with 1 Axes>"
      ]
     },
     "metadata": {
      "needs_background": "light"
     },
     "output_type": "display_data"
    }
   ],
   "source": [
    "plt.imshow(X[0])"
   ]
  },
  {
   "cell_type": "code",
   "execution_count": 3,
   "metadata": {},
   "outputs": [
    {
     "data": {
      "text/plain": [
       "<matplotlib.image.AxesImage at 0x11b21539940>"
      ]
     },
     "execution_count": 3,
     "metadata": {},
     "output_type": "execute_result"
    },
    {
     "data": {
      "image/png": "[encoded data removed]",
      "text/plain": [
       "<Figure size 432x288 with 1 Axes>"
      ]
     },
     "metadata": {
      "needs_background": "light"
     },
     "output_type": "display_data"
    }
   ],
   "source": [
    "plt.imshow(X[1])"
   ]
  },
  {
   "cell_type": "code",
   "execution_count": 4,
   "metadata": {},
   "outputs": [
    {
     "data": {
      "text/plain": [
       "<matplotlib.image.AxesImage at 0x11c175540d0>"
      ]
     },
     "execution_count": 4,
     "metadata": {},
     "output_type": "execute_result"
    },
    {
     "data": {
      "image/png": "[encoded data removed]",
      "text/plain": [
       "<Figure size 432x288 with 1 Axes>"
      ]
     },
     "metadata": {
      "needs_background": "light"
     },
     "output_type": "display_data"
    }
   ],
   "source": [
    "plt.imshow(X[2])"
   ]
  },
  {
   "cell_type": "code",
   "execution_count": 5,
   "metadata": {},
   "outputs": [
    {
     "name": "stdout",
     "output_type": "stream",
     "text": [
      "5 [0. 0. 0. 0. 0. 1. 0. 0. 0. 0.]\n",
      "0 [1. 0. 0. 0. 0. 0. 0. 0. 0. 0.]\n",
      "4 [0. 0. 0. 0. 1. 0. 0. 0. 0. 0.]\n",
      "1 [0. 1. 0. 0. 0. 0. 0. 0. 0. 0.]\n",
      "9 [0. 0. 0. 0. 0. 0. 0. 0. 0. 1.]\n"
     ]
    }
   ],
   "source": [
    "print (y[0], y_oh[0])\n",
    "print (y[1], y_oh[1])\n",
    "print (y[2], y_oh[2])\n",
    "print (y[3], y_oh[3])\n",
    "print (y[4], y_oh[4])"
   ]
  },
  {
   "cell_type": "code",
   "execution_count": 6,
   "metadata": {},
   "outputs": [
    {
     "data": {
      "text/plain": [
       "<function matplotlib.pyplot.show(close=None, block=None)>"
      ]
     },
     "execution_count": 6,
     "metadata": {},
     "output_type": "execute_result"
    },
    {
     "data": {
      "image/png": "[encoded data removed]",
      "text/plain": [
       "<Figure size 432x288 with 3 Axes>"
      ]
     },
     "metadata": {
      "needs_background": "light"
     },
     "output_type": "display_data"
    }
   ],
   "source": [
    "fig,axes = plt.subplots(1,3)\n",
    "for i in range(3):\n",
    "    ax = axes[i%3]\n",
    "    ax.imshow(X[i])\n",
    "    ax.set_title('Label: {}'.format(y[i]))\n",
    "plt.tight_layout()\n",
    "plt.show"
   ]
  },
  {
   "cell_type": "markdown",
   "metadata": {},
   "source": [
    "### Question 1\n",
    "**The data set**\n",
    "\n",
    "Plot a three examples from the data set.\n",
    "* What type of data are in the data set?\n",
    "\n",
    "    <span style=\"color:red\"> The data set contains collections of digits with 784 features that are supposed to represent images. X is a collection of 28x28 multidimensional arrays that contains floating point values with each instance of X representing an image, while y is a collection of integers that are supposed to classify its corresponding image (the X array) into different categories based on the y value (the y value is supposed to match the number being displayed on the image). </span>\n",
    "    \n",
    "\n",
    "* What does the line ```X = X.reshape(X.shape[0], 28, 28, 1)``` do?\n",
    "\n",
    "    <span style=\"color:red\"> The line converts X into a four dimensional array of dimension 1000 x 28 x 28 x 1, this is likely done to ensure that the data is compatible with the keras API. In particular, because the data fetched from mnist_784 are 28 x 28 images, X would need to be in the correct dimension in order to be both displayed correctly and fitted onto the neural network, which explains why X has to be 28 x 28. </span>\n",
    "    \n",
    "\n",
    "Look at how the encoding of the targets (i.e. ```y```) is changed. E.g. the lines\n",
    "```\n",
    "    y_oh = np.zeros((num_tot, num_classes))\n",
    "    y_oh[range(num_tot), y] = 1\n",
    "```\n",
    "Print out a few rows of ```y``` next to ```y_oh```.\n",
    "* What is the relationship between ```y``` and ```y_oh```?\n",
    "\n",
    "    <span style=\"color:red\"> y_oh is the design (dummy) variable encoding for y, the columns of y_oh consists of all of the different possible values for y, and a value of 1 is used to indicate which particular value y_oh takes on. </span>\n",
    "    \n",
    "    \n",
    "* What is the type of encoding in ```y_oh``` called and why is it used?\n",
    "\n",
    "    <span style=\"color:red\"> The type of coding used in y_oh is called one hot encoding, and this encoding is performed in order to properly assign losses value to y since y is an unordered categorical variable. As y is a categorical (not ordinal) variable, the distance between different values of the variable has no meaning, and assigning regular integer value to y would cause problem when comparing losses values as this would be akin to comparing apples to oranges (the loss value between a predicted value of 5 and 1 for y would be greater than between a predicted value of 3 and 4, even though they are both equally wrong predictions and should have the same loss value). </span>\n",
    "    \n",
    "    \n",
    "* Plot three data examples in the same figure and set the correct label as title. \n",
    "    * It should be possible to see what the data represent."
   ]
  },
  {
   "cell_type": "markdown",
   "metadata": {},
   "source": [
    "### Question 2\n",
    "**The model**\n",
    "\n",
    "Below is some code for bulding and training a model with Keras.\n",
    "* What type of network is implemented below? I.e. a normal MLP, RNN, CNN, Logistic Regression...?\n",
    "\n",
    "    <span style=\"color:red\"> The type of network implemented is Convolutional Neural Network (CNN) since it has both a convolution layer and pooling layer (the typical structure for CNN). </span>\n",
    "    \n",
    "    \n",
    "* What does ```Dropout()``` do?\n",
    "\n",
    "    <span style=\"color:red\"> Dropout() randomly select input units at a predefined rate (given as a percentage probability) during each weight update cycle of the training process and set those units to 0 (drop them from the model). This is the done in order to prevent overfitting, since some input units are set to 0, those are that not set to 0 are scaled up by 1(1-rate) in order to ensure that the total sum of all inputs remains the same. </span>\n",
    "\n",
    "\n",
    "* Which type of activation function is used for the hidden layers?\n",
    "\n",
    "    <span style=\"color:red\"> The hidden layers use the Rectifier Linear Unit (ReLU) activation function, which outputs the same value as the input value when the input is positive, and outputs 0 otherwise. </span>\n",
    "\n",
    "\n",
    "* Which type of activation function is used for the output layer?\n",
    "\n",
    "    <span style=\"color:red\"> The output layer uses the softmax activation function in order to normalize the output to the proper probability space (with values between 0 and 1). </span>\n",
    "\n",
    "\n",
    "* Why are two different activation functions used?\n",
    "\n",
    "    <span style=\"color:red\"> The hidden layers use the ReLU activation function in order to mitigate the vanishing gradient problem, since having negative values would lead to an increasingly small gradient during back-propagation. This would prevent those layers located further away from the output layer from being trained during each weight update cycle. This issue is particularly bad for a sequential model with many layers.\n",
    "The output layer uses the softmax activation function to normalize the output to the probability space since the model is used for classification and requires the output to be a probability value between 0 and 1.\n",
    " </span>\n",
    "\n",
    "\n",
    "* What optimizer is used in the model below?\n",
    "\n",
    "    <span style=\"color:red\"> The optimizer is called Stochastic Gradient Descent (SGD). </span>\n",
    "\n",
    "\n",
    "* How often are the weights updated (i.e. after how many data examples)?\n",
    "\n",
    "    <span style=\"color:red\"> The weights are updated after 32 data examples since the batch size is set to 32. </span>\n",
    "\n",
    "\n",
    "* What loss function is used?\n",
    "\n",
    "    <span style=\"color:red\"> The loss function used is categorical cross-entropy. </span>\n",
    "\n",
    "\n",
    "* How many parameters (i.e. weights and biases, NOT hyper-parameters) does the model have?\n",
    "\n",
    "    <span style=\"color:red\"> There are 108,618 parameters in total in this model. </span>\n"
   ]
  },
  {
   "cell_type": "code",
   "execution_count": 7,
   "metadata": {
    "scrolled": true
   },
   "outputs": [
    {
     "name": "stderr",
     "output_type": "stream",
     "text": [
      "c:\\users\\bo wu\\appdata\\local\\programs\\python\\python39\\lib\\site-packages\\keras\\optimizer_v2\\gradient_descent.py:102: UserWarning: The `lr` argument is deprecated, use `learning_rate` instead.\n",
      "  super(SGD, self).__init__(name, **kwargs)\n"
     ]
    },
    {
     "name": "stdout",
     "output_type": "stream",
     "text": [
      "Epoch 1/60\n",
      "25/25 [==============================] - 0s 5ms/step - loss: 2.1367\n",
      "Epoch 2/60\n",
      "25/25 [==============================] - 0s 4ms/step - loss: 1.0638\n",
      "Epoch 3/60\n",
      "25/25 [==============================] - 0s 4ms/step - loss: 0.5037\n",
      "Epoch 4/60\n",
      "25/25 [==============================] - 0s 4ms/step - loss: 0.3274\n",
      "Epoch 5/60\n",
      "25/25 [==============================] - 0s 4ms/step - loss: 0.2436\n",
      "Epoch 6/60\n",
      "25/25 [==============================] - 0s 4ms/step - loss: 0.1925\n",
      "Epoch 7/60\n",
      "25/25 [==============================] - 0s 4ms/step - loss: 0.1752\n",
      "Epoch 8/60\n",
      "25/25 [==============================] - 0s 4ms/step - loss: 0.1191\n",
      "Epoch 9/60\n",
      "25/25 [==============================] - 0s 4ms/step - loss: 0.0964\n",
      "Epoch 10/60\n",
      "25/25 [==============================] - 0s 4ms/step - loss: 0.0674\n",
      "Epoch 11/60\n",
      "25/25 [==============================] - 0s 4ms/step - loss: 0.0534\n",
      "Epoch 12/60\n",
      "25/25 [==============================] - 0s 4ms/step - loss: 0.0434\n",
      "Epoch 13/60\n",
      "25/25 [==============================] - 0s 4ms/step - loss: 0.0304\n",
      "Epoch 14/60\n",
      "25/25 [==============================] - 0s 4ms/step - loss: 0.0210\n",
      "Epoch 15/60\n",
      "25/25 [==============================] - 0s 4ms/step - loss: 0.0152\n",
      "Epoch 16/60\n",
      "25/25 [==============================] - 0s 4ms/step - loss: 0.0193\n",
      "Epoch 17/60\n",
      "25/25 [==============================] - 0s 4ms/step - loss: 0.0113\n",
      "Epoch 18/60\n",
      "25/25 [==============================] - 0s 4ms/step - loss: 0.0076\n",
      "Epoch 19/60\n",
      "25/25 [==============================] - 0s 4ms/step - loss: 0.0066\n",
      "Epoch 20/60\n",
      "25/25 [==============================] - 0s 4ms/step - loss: 0.0044\n",
      "Epoch 21/60\n",
      "25/25 [==============================] - 0s 4ms/step - loss: 0.0039\n",
      "Epoch 22/60\n",
      "25/25 [==============================] - 0s 4ms/step - loss: 0.0031\n",
      "Epoch 23/60\n",
      "25/25 [==============================] - 0s 4ms/step - loss: 0.0030\n",
      "Epoch 24/60\n",
      "25/25 [==============================] - 0s 4ms/step - loss: 0.0026\n",
      "Epoch 25/60\n",
      "25/25 [==============================] - 0s 4ms/step - loss: 0.0023\n",
      "Epoch 26/60\n",
      "25/25 [==============================] - 0s 4ms/step - loss: 0.0022\n",
      "Epoch 27/60\n",
      "25/25 [==============================] - 0s 4ms/step - loss: 0.0020\n",
      "Epoch 28/60\n",
      "25/25 [==============================] - 0s 4ms/step - loss: 0.0019\n",
      "Epoch 29/60\n",
      "25/25 [==============================] - 0s 4ms/step - loss: 0.0017\n",
      "Epoch 30/60\n",
      "25/25 [==============================] - 0s 4ms/step - loss: 0.0016\n",
      "Epoch 31/60\n",
      "25/25 [==============================] - 0s 4ms/step - loss: 0.0015\n",
      "Epoch 32/60\n",
      "25/25 [==============================] - 0s 4ms/step - loss: 0.0015\n",
      "Epoch 33/60\n",
      "25/25 [==============================] - 0s 4ms/step - loss: 0.0014\n",
      "Epoch 34/60\n",
      "25/25 [==============================] - 0s 4ms/step - loss: 0.0013\n",
      "Epoch 35/60\n",
      "25/25 [==============================] - 0s 4ms/step - loss: 0.0012\n",
      "Epoch 36/60\n",
      "25/25 [==============================] - 0s 4ms/step - loss: 0.0012\n",
      "Epoch 37/60\n",
      "25/25 [==============================] - 0s 4ms/step - loss: 0.0011\n",
      "Epoch 38/60\n",
      "25/25 [==============================] - 0s 4ms/step - loss: 0.0011\n",
      "Epoch 39/60\n",
      "25/25 [==============================] - 0s 4ms/step - loss: 0.0010\n",
      "Epoch 40/60\n",
      "25/25 [==============================] - 0s 4ms/step - loss: 9.7721e-04\n",
      "Epoch 41/60\n",
      "25/25 [==============================] - 0s 4ms/step - loss: 9.7694e-04\n",
      "Epoch 42/60\n",
      "25/25 [==============================] - 0s 4ms/step - loss: 9.3003e-04\n",
      "Epoch 43/60\n",
      "25/25 [==============================] - 0s 4ms/step - loss: 8.7942e-04\n",
      "Epoch 44/60\n",
      "25/25 [==============================] - 0s 4ms/step - loss: 8.5037e-04\n",
      "Epoch 45/60\n",
      "25/25 [==============================] - 0s 4ms/step - loss: 8.1754e-04\n",
      "Epoch 46/60\n",
      "25/25 [==============================] - 0s 4ms/step - loss: 7.9134e-04\n",
      "Epoch 47/60\n",
      "25/25 [==============================] - 0s 4ms/step - loss: 7.8247e-04\n",
      "Epoch 48/60\n",
      "25/25 [==============================] - 0s 4ms/step - loss: 7.6190e-04\n",
      "Epoch 49/60\n",
      "25/25 [==============================] - 0s 4ms/step - loss: 7.2741e-04\n",
      "Epoch 50/60\n",
      "25/25 [==============================] - 0s 4ms/step - loss: 7.0065e-04\n",
      "Epoch 51/60\n",
      "25/25 [==============================] - 0s 4ms/step - loss: 6.8190e-04\n",
      "Epoch 52/60\n",
      "25/25 [==============================] - 0s 4ms/step - loss: 6.5684e-04\n",
      "Epoch 53/60\n",
      "25/25 [==============================] - 0s 4ms/step - loss: 6.3774e-04\n",
      "Epoch 54/60\n",
      "25/25 [==============================] - 0s 4ms/step - loss: 6.2655e-04\n",
      "Epoch 55/60\n",
      "25/25 [==============================] - 0s 4ms/step - loss: 6.1481e-04\n",
      "Epoch 56/60\n",
      "25/25 [==============================] - 0s 4ms/step - loss: 5.9605e-04\n",
      "Epoch 57/60\n",
      "25/25 [==============================] - 0s 4ms/step - loss: 5.7725e-04\n",
      "Epoch 58/60\n",
      "25/25 [==============================] - 0s 4ms/step - loss: 5.6647e-04\n",
      "Epoch 59/60\n",
      "25/25 [==============================] - 0s 4ms/step - loss: 5.4801e-04\n",
      "Epoch 60/60\n",
      "25/25 [==============================] - 0s 5ms/step - loss: 5.3758e-04\n",
      "7/7 [==============================] - 0s 2ms/step - loss: 0.4677\n",
      "Accuracy: 0.93\n"
     ]
    }
   ],
   "source": [
    "from tensorflow.keras.models import Sequential\n",
    "from tensorflow.keras.layers import Dense, Dropout, Flatten\n",
    "from tensorflow.keras.layers import Conv2D, MaxPooling2D\n",
    "from tensorflow.keras.optimizers import SGD\n",
    "\n",
    "model = Sequential()\n",
    "\n",
    "model.add(Conv2D(16, (3, 3), activation='relu', input_shape=(28, 28, 1)))\n",
    "# Max pooling\n",
    "model.add(MaxPooling2D(pool_size=(2, 2)))\n",
    "model.add(Dropout(0.))\n",
    "\n",
    "model.add(Conv2D(32, (3, 3), activation='relu'))\n",
    "# Max pooling\n",
    "model.add(MaxPooling2D(pool_size=(2, 2)))\n",
    "model.add(Flatten())\n",
    "\n",
    "model.add(Dense(128, activation='relu'))\n",
    "model.add(Dropout(0.))\n",
    "\n",
    "model.add(Dense(10, activation='softmax'))\n",
    "\n",
    "sgd = SGD(lr=0.01, decay=1e-6, momentum=0.9, nesterov=True)\n",
    "\n",
    "# Compile the model\n",
    "model.compile(loss='categorical_crossentropy', optimizer=sgd)\n",
    "\n",
    "# Train the model\n",
    "model.fit(X_train, y_oh_train, batch_size=32, epochs=60)\n",
    "\n",
    "# Evaluate performance\n",
    "test_loss = model.evaluate(X_test, y_oh_test, batch_size=32)\n",
    "\n",
    "predictions = model.predict(X_test, batch_size=32)\n",
    "predictions = np.argmax(predictions, axis=1) # change encoding again\n",
    "print('Accuracy:', (predictions == y_test).sum() / predictions.shape[0])"
   ]
  },
  {
   "cell_type": "markdown",
   "metadata": {},
   "source": [
    "## Part 2 - train a model\n",
    "\n",
    "A model's performance depends on many factors apart from the model architecture (e.g. type and number of layers) and the dataset. Here you will get to explore some of the factors that affect model performance. Much of the skill in training deep learning models lies in quickly finding good values/options for these choises.\n",
    "\n",
    "In order to observe the learning process it is best to compare the training set loss with the loss on the test set. How to visualize these variables with Keras is described under [Training history visualization](https://keras.io/visualization/#training-history-visualization) in the documentation.\n",
    "\n",
    "You will explore the effect of 1) optimizer, 2) training duration, and 3) dropout (see the question above).\n",
    "\n",
    "When training, an **epoch** is one pass through the full training set.\n",
    "\n",
    "### Question 3\n",
    "\n",
    "* **Vizualize the training**. Use the model above to observe the training process. Train it for 150 epochs and then plot both \"loss\" and \"val_loss\" (i.e. loss on the valiadtion set, here the terms \"validation set\" and \"test set\" are used interchangably, but this is not always true). What is the optimal number of epochs for minimizing the test set loss? \n",
    "    * Remember to first reset the weights (this can be done by calling ```model.compile()```), otherwise the training just continues from where it was stopped earlier.\n",
    "    \n",
    "     <span style=\"color:red\"> The optimal number of epochs for minimizing the test set loss is 6. </span>\n",
    "\n",
    "* **Optimizer**. Select three different optimizers and for each find the close-to-optimal hyper-parameter(s). In your answer, include a) your three choises, b) best hyper-parameters for each of the three optimizers and, c) the code that produced the results.\n",
    "    * *NOTE* that how long the training takes varies with optimizer. I.e., make sure that the model is trained for long enough to reach optimal performance.\n",
    "\n",
    "* **Dropout**. Use the best optimizer and do hyper-parameter seach and find the best value for ```Dropout()```.\n",
    "\n",
    "* **Best model**. Combine the what you learned from the above three questions to build the best model. How much better is it than the worst and average models?\n",
    "\n",
    "    <span style=\"color:red\"> Based on the result of the hyper-parameter tuning, the best model was found to be one that uses the Adam optimizer with a learning rate of 0.01, a beta 1 value of 0.5, a beta 2 value of 0.95, an epsilon value of 7e-8, with amsgrad set to false, and with a dropout rate of 0.2. This model had an accuracy of 0.99, which is 4.21% better than the worst model - the sgd model with an accuracy of 0.95, and about 2.86% better than the average accuracy of the three models, which is a value of (0.95+0.9625+0.975)/3 = 0.9625. </span>\n",
    "    \n",
    "\n",
    "\n",
    "\n",
    "* **Results on the test set**. When doing this search for good model configuration/hyper-parameter values, the data set was split into *two* parts: a training set and a test set (the term \"validation\" was used interchangably wiht \"test\"). For your final model, is the performance (i.e. accuracy) on the test set representative for the performance one would expect on a previously unseen data set (drawn from the same distribution)? Why?\n",
    "\n",
    "    <span style=\"color:red\"> The performance on the test set for the final model would not be representative of the performance one would expect on a previously unseen data set. This is due to the fact that the test set was used for selecting the best possible model, so whatever model that was selected could be biased toward the test set data. Since test set is used during the model selection process, it is considered a validation set and not a true test set. As a result, the final model performance on the test set may still be optimistic compared to using a never before seen data set. </span>\n",
    "\n",
    "\n",
    "## Further information\n",
    "For ideas about hyper-parameter tuning, take a look at the strategies described in the sklearn documentation under [model selection](https://scikit-learn.org/stable/model_selection.html), or in this [blog post](https://blog.tensorflow.org/2020/01/hyperparameter-tuning-with-keras-tuner.html) from TensorFlow. For a more thorough discussion about optimizers see [this video](https://www.youtube.com/watch?v=DiNzQP7kK-s) discussing the article [Descending through a Crowded Valley -- Benchmarking Deep Learning Optimizers](https://arxiv.org/abs/2007.01547).\n",
    "\n",
    "\n",
    "**Good luck!**"
   ]
  },
  {
   "cell_type": "code",
   "execution_count": 12,
   "metadata": {},
   "outputs": [],
   "source": [
    "model.compile()"
   ]
  },
  {
   "cell_type": "code",
   "execution_count": 13,
   "metadata": {},
   "outputs": [
    {
     "name": "stderr",
     "output_type": "stream",
     "text": [
      "c:\\users\\bo wu\\appdata\\local\\programs\\python\\python39\\lib\\site-packages\\keras\\optimizer_v2\\gradient_descent.py:102: UserWarning: The `lr` argument is deprecated, use `learning_rate` instead.\n",
      "  super(SGD, self).__init__(name, **kwargs)\n"
     ]
    },
    {
     "name": "stdout",
     "output_type": "stream",
     "text": [
      "7/7 [==============================] - 0s 2ms/step - loss: 0.2017\n",
      "Accuracy: 0.98\n"
     ]
    }
   ],
   "source": [
    "model = Sequential()\n",
    "\n",
    "model.add(Conv2D(16, (3, 3), activation='relu', input_shape=(28, 28, 1)))\n",
    "# Max pooling\n",
    "model.add(MaxPooling2D(pool_size=(2, 2)))\n",
    "model.add(Dropout(0.))\n",
    "\n",
    "model.add(Conv2D(32, (3, 3), activation='relu'))\n",
    "# Max pooling\n",
    "model.add(MaxPooling2D(pool_size=(2, 2)))\n",
    "model.add(Flatten())\n",
    "\n",
    "model.add(Dense(128, activation='relu'))\n",
    "model.add(Dropout(0.))\n",
    "\n",
    "model.add(Dense(10, activation='softmax'))\n",
    "\n",
    "sgd = SGD(lr=0.01, decay=1e-6, momentum=0.9, nesterov=True)\n",
    "\n",
    "# Compile the model\n",
    "model.compile(loss='categorical_crossentropy', optimizer=sgd)\n",
    "\n",
    "# Train the model\n",
    "compare = model.fit(X, y_oh, validation_split =.2, shuffle=True, batch_size=32, epochs=150, verbose=0)\n",
    "\n",
    "# Evaluate performance\n",
    "test_loss = model.evaluate(X_test, y_oh_test, batch_size=32)\n",
    "\n",
    "predictions = model.predict(X_test, batch_size=32)\n",
    "predictions = np.argmax(predictions, axis=1) # change encoding again\n",
    "print('Accuracy:', (predictions == y_test).sum() / predictions.shape[0])"
   ]
  },
  {
   "cell_type": "code",
   "execution_count": 14,
   "metadata": {},
   "outputs": [
    {
     "data": {
      "image/png": "[encoded data removed]",
      "text/plain": [
       "<Figure size 432x288 with 1 Axes>"
      ]
     },
     "metadata": {
      "needs_background": "light"
     },
     "output_type": "display_data"
    }
   ],
   "source": [
    "from matplotlib import pyplot as plt\n",
    "\n",
    "import pandas as pd\n",
    "p = pd.DataFrame(compare.history)\n",
    "p.plot()\n",
    "plt.show()"
   ]
  },
  {
   "cell_type": "code",
   "execution_count": 15,
   "metadata": {},
   "outputs": [
    {
     "data": {
      "text/plain": [
       "6"
      ]
     },
     "execution_count": 15,
     "metadata": {},
     "output_type": "execute_result"
    }
   ],
   "source": [
    "np.argmin(p['val_loss'])"
   ]
  },
  {
   "cell_type": "code",
   "execution_count": 10,
   "metadata": {},
   "outputs": [],
   "source": [
    "import tensorflow as tf\n",
    "from tensorflow import keras\n",
    "import keras_tuner as kt"
   ]
  },
  {
   "cell_type": "code",
   "execution_count": 7,
   "metadata": {},
   "outputs": [],
   "source": [
    "def model_builder(hp):\n",
    "    \n",
    "    model = Sequential()\n",
    "\n",
    "    model.add(Conv2D(16, (3, 3), activation='relu', input_shape=(28, 28, 1)))\n",
    "    # Max pooling\n",
    "    model.add(MaxPooling2D(pool_size=(2, 2)))\n",
    "    model.add(Dropout(0.))\n",
    "\n",
    "    model.add(Conv2D(32, (3, 3), activation='relu'))\n",
    "    # Max pooling\n",
    "    model.add(MaxPooling2D(pool_size=(2, 2)))\n",
    "    model.add(Flatten())\n",
    "\n",
    "    model.add(Dense(128, activation='relu'))\n",
    "    model.add(Dropout(0.))\n",
    "\n",
    "    model.add(Dense(10, activation='softmax'))\n",
    "\n",
    "\n",
    "    hp_lr = hp.Choice('learning_rate', values=[1e-1, 1e-2, 1e-3, 1e-4])\n",
    "    hp_momentum = hp.Float('momentum', min_value=0.1, max_value=1, step=0.1)\n",
    "\n",
    "    # Compile the model\n",
    "    model.compile(optimizer=keras.optimizers.SGD(lr=hp_lr, decay=1e-6, momentum=hp_momentum, nesterov=True),loss=keras.losses.CategoricalCrossentropy(from_logits=True), \n",
    "                  metrics=['accuracy'])\n",
    "\n",
    "    return model"
   ]
  },
  {
   "cell_type": "code",
   "execution_count": 8,
   "metadata": {},
   "outputs": [
    {
     "name": "stderr",
     "output_type": "stream",
     "text": [
      "c:\\users\\bo wu\\appdata\\local\\programs\\python\\python39\\lib\\site-packages\\keras\\optimizer_v2\\gradient_descent.py:102: UserWarning: The `lr` argument is deprecated, use `learning_rate` instead.\n",
      "  super(SGD, self).__init__(name, **kwargs)\n"
     ]
    }
   ],
   "source": [
    "tuner = kt.Hyperband(model_builder,\n",
    "                     objective='val_accuracy',\n",
    "                     max_epochs=30,\n",
    "                     factor=3,\n",
    "                     directory='my_dir',\n",
    "                     project_name='tuning')"
   ]
  },
  {
   "cell_type": "code",
   "execution_count": 9,
   "metadata": {},
   "outputs": [
    {
     "name": "stdout",
     "output_type": "stream",
     "text": [
      "Trial 55 Complete [00h 00m 01s]\n",
      "val_accuracy: 0.90625\n",
      "\n",
      "Best val_accuracy So Far: 0.949999988079071\n",
      "Total elapsed time: 00h 00m 46s\n",
      "INFO:tensorflow:Oracle triggered exit\n"
     ]
    }
   ],
   "source": [
    "tuner.search(X_train, y_oh_train, epochs=50, validation_split=0.2, callbacks=[tf.keras.callbacks.EarlyStopping(monitor='val_loss', patience=5)])"
   ]
  },
  {
   "cell_type": "code",
   "execution_count": 10,
   "metadata": {},
   "outputs": [
    {
     "name": "stdout",
     "output_type": "stream",
     "text": [
      "\n",
      "The hyperparameter search is complete. The optimal momentum for the optimizer is 0.8 and the optimal learning rate for the optimizer\n",
      "is 0.1.\n",
      "\n"
     ]
    }
   ],
   "source": [
    "best_hps=tuner.get_best_hyperparameters(num_trials=1)[0]\n",
    "\n",
    "print(f\"\"\"\n",
    "The hyperparameter search is complete. The optimal momentum for the optimizer is {best_hps.get('momentum')} and the optimal learning rate for the optimizer\n",
    "is {best_hps.get('learning_rate')}.\n",
    "\"\"\")"
   ]
  },
  {
   "cell_type": "code",
   "execution_count": 11,
   "metadata": {
    "tags": []
   },
   "outputs": [],
   "source": [
    "from tensorflow.keras.models import Sequential\n",
    "from tensorflow.keras.layers import Dense, Dropout, Flatten\n",
    "from tensorflow.keras.layers import Conv2D, MaxPooling2D\n",
    "from tensorflow.keras.optimizers import RMSprop\n",
    "\n",
    "def model_builder2(hp):\n",
    "    \n",
    "    model = Sequential()\n",
    "\n",
    "    model.add(Conv2D(16, (3, 3), activation='relu', input_shape=(28, 28, 1)))\n",
    "    # Max pooling\n",
    "    model.add(MaxPooling2D(pool_size=(2, 2)))\n",
    "    model.add(Dropout(0.))\n",
    "\n",
    "    model.add(Conv2D(32, (3, 3), activation='relu'))\n",
    "    # Max pooling\n",
    "    model.add(MaxPooling2D(pool_size=(2, 2)))\n",
    "    model.add(Flatten())\n",
    "\n",
    "    model.add(Dense(128, activation='relu'))\n",
    "    model.add(Dropout(0.))\n",
    "\n",
    "    model.add(Dense(10, activation='softmax'))\n",
    "\n",
    "\n",
    "    hp_lr = hp.Choice('learning_rate', values=[1e-1, 1e-2, 1e-3, 1e-4])\n",
    "    hp_centered = hp.Choice('centered', values=[True,False])\n",
    "    hp_momentum = hp.Float('momentum', min_value=0.1, max_value=1, step=0.1)\n",
    "    hp_rho = hp.Float('rho', min_value=0.9, max_value=1, step=0.01)\n",
    "    hp_epsilon = hp.Float('epsilon', min_value=1e-8, max_value=1e-7, step=1e-8)\n",
    "\n",
    "    # Compile the model\n",
    "    model.compile(optimizer=keras.optimizers.RMSprop(lr=hp_lr, momentum = hp_momentum, rho=hp_rho, epsilon=hp_epsilon, centered=hp_centered), loss=keras.losses.CategoricalCrossentropy(from_logits=True), \n",
    "                  metrics=['accuracy'])\n",
    "\n",
    "    return model"
   ]
  },
  {
   "cell_type": "code",
   "execution_count": 12,
   "metadata": {},
   "outputs": [
    {
     "name": "stderr",
     "output_type": "stream",
     "text": [
      "c:\\users\\bo wu\\appdata\\local\\programs\\python\\python39\\lib\\site-packages\\keras\\optimizer_v2\\rmsprop.py:130: UserWarning: The `lr` argument is deprecated, use `learning_rate` instead.\n",
      "  super(RMSprop, self).__init__(name, **kwargs)\n"
     ]
    }
   ],
   "source": [
    "tuner = kt.Hyperband(model_builder2,\n",
    "                     objective='val_accuracy',\n",
    "                     max_epochs=30,\n",
    "                     factor=3,\n",
    "                     directory='my_dir',\n",
    "                     project_name='tuning2')"
   ]
  },
  {
   "cell_type": "code",
   "execution_count": 13,
   "metadata": {},
   "outputs": [
    {
     "name": "stdout",
     "output_type": "stream",
     "text": [
      "Trial 90 Complete [00h 00m 04s]\n",
      "val_accuracy: 0.9312499761581421\n",
      "\n",
      "Best val_accuracy So Far: 0.9624999761581421\n",
      "Total elapsed time: 00h 02m 00s\n",
      "INFO:tensorflow:Oracle triggered exit\n"
     ]
    }
   ],
   "source": [
    "tuner.search(X_train, y_oh_train, epochs=50, validation_split=0.2)"
   ]
  },
  {
   "cell_type": "code",
   "execution_count": 14,
   "metadata": {},
   "outputs": [
    {
     "name": "stdout",
     "output_type": "stream",
     "text": [
      "\n",
      "The hyperparameter search is complete. The optimal learning for the optimizer is 0.001, the optimal momentum for the optimizer\n",
      "is 0.30000000000000004, the optimal rho for the optimizer is 0.9900000000000001, , the optimal epsilon for the optimizer\n",
      "is 7e-08, centered for the optimizer should be set to 1.\n",
      "\n"
     ]
    }
   ],
   "source": [
    "best_hps=tuner.get_best_hyperparameters(num_trials=1)[0]\n",
    "\n",
    "print(f\"\"\"\n",
    "The hyperparameter search is complete. The optimal learning for the optimizer is {best_hps.get('learning_rate')}, the optimal momentum for the optimizer\n",
    "is {best_hps.get('momentum')}, the optimal rho for the optimizer is {best_hps.get('rho')}, , the optimal epsilon for the optimizer\n",
    "is {best_hps.get('epsilon')}, centered for the optimizer should be set to {best_hps.get('centered')}.\n",
    "\"\"\")"
   ]
  },
  {
   "cell_type": "code",
   "execution_count": 15,
   "metadata": {},
   "outputs": [],
   "source": [
    "from tensorflow.keras.models import Sequential\n",
    "from tensorflow.keras.layers import Dense, Dropout, Flatten\n",
    "from tensorflow.keras.layers import Conv2D, MaxPooling2D\n",
    "from tensorflow.keras.optimizers import Adam\n",
    "\n",
    "\n",
    "def model_builder3(hp):\n",
    "    \n",
    "    model = Sequential()\n",
    "\n",
    "    model.add(Conv2D(16, (3, 3), activation='relu', input_shape=(28, 28, 1)))\n",
    "    # Max pooling\n",
    "    model.add(MaxPooling2D(pool_size=(2, 2)))\n",
    "    model.add(Dropout(0.))\n",
    "\n",
    "    model.add(Conv2D(32, (3, 3), activation='relu'))\n",
    "    # Max pooling\n",
    "    model.add(MaxPooling2D(pool_size=(2, 2)))\n",
    "    model.add(Flatten())\n",
    "\n",
    "    model.add(Dense(128, activation='relu'))\n",
    "    model.add(Dropout(0.))\n",
    "\n",
    "    model.add(Dense(10, activation='softmax'))\n",
    "\n",
    "\n",
    "    hp_lr = hp.Choice('learning_rate', values=[1e-1, 1e-2, 1e-3, 1e-4])\n",
    "    hp_amsgrad = hp.Choice('amsgrad', values=[True,False])\n",
    "    hp_beta1 = hp.Float('beta1', min_value=0.1, max_value=1, step=0.1)\n",
    "    hp_beta2 = hp.Float('beta2', min_value=0.9, max_value=1, step=0.01)\n",
    "    hp_epsilon = hp.Float('epsilon', min_value=1e-8, max_value=1e-7, step=1e-8)\n",
    "\n",
    "    # Compile the model\n",
    "    model.compile(optimizer=keras.optimizers.Adam(lr=hp_lr, beta_1 = hp_beta1, beta_2=hp_beta2, epsilon=hp_epsilon, amsgrad=hp_amsgrad), loss=keras.losses.CategoricalCrossentropy(from_logits=True), \n",
    "                  metrics=['accuracy'])\n",
    "\n",
    "    return model"
   ]
  },
  {
   "cell_type": "code",
   "execution_count": 16,
   "metadata": {},
   "outputs": [
    {
     "name": "stderr",
     "output_type": "stream",
     "text": [
      "c:\\users\\bo wu\\appdata\\local\\programs\\python\\python39\\lib\\site-packages\\keras\\optimizer_v2\\adam.py:105: UserWarning: The `lr` argument is deprecated, use `learning_rate` instead.\n",
      "  super(Adam, self).__init__(name, **kwargs)\n"
     ]
    }
   ],
   "source": [
    "tuner = kt.Hyperband(model_builder3,\n",
    "                     objective='val_accuracy',\n",
    "                     max_epochs=30,\n",
    "                     factor=3,\n",
    "                     directory='my_dir',\n",
    "                     project_name='tuning3')"
   ]
  },
  {
   "cell_type": "code",
   "execution_count": 17,
   "metadata": {},
   "outputs": [
    {
     "name": "stdout",
     "output_type": "stream",
     "text": [
      "Trial 90 Complete [00h 00m 04s]\n",
      "val_accuracy: 0.9624999761581421\n",
      "\n",
      "Best val_accuracy So Far: 0.9750000238418579\n",
      "Total elapsed time: 00h 02m 00s\n",
      "INFO:tensorflow:Oracle triggered exit\n"
     ]
    }
   ],
   "source": [
    "tuner.search(X_train, y_oh_train, epochs=50, validation_split=0.2)"
   ]
  },
  {
   "cell_type": "code",
   "execution_count": 18,
   "metadata": {},
   "outputs": [
    {
     "name": "stdout",
     "output_type": "stream",
     "text": [
      "\n",
      "The hyperparameter search is complete. The optimal learning for the optimizer is 0.01, the optimal beta1 for the optimizer\n",
      "is 0.5, the optimal beta2 for the optimizer is 0.9500000000000001, , the optimal epsilon for the optimizer\n",
      "is 7e-08, amsgrad for the optimizer should be set to 0.\n",
      "\n"
     ]
    }
   ],
   "source": [
    "best_hps=tuner.get_best_hyperparameters(num_trials=1)[0]\n",
    "\n",
    "print(f\"\"\"\n",
    "The hyperparameter search is complete. The optimal learning for the optimizer is {best_hps.get('learning_rate')}, the optimal beta1 for the optimizer\n",
    "is {best_hps.get('beta1')}, the optimal beta2 for the optimizer is {best_hps.get('beta2')}, , the optimal epsilon for the optimizer\n",
    "is {best_hps.get('epsilon')}, amsgrad for the optimizer should be set to {best_hps.get('amsgrad')}.\n",
    "\"\"\")"
   ]
  },
  {
   "cell_type": "code",
   "execution_count": null,
   "metadata": {},
   "outputs": [],
   "source": [
    "model.compile()"
   ]
  },
  {
   "cell_type": "code",
   "execution_count": 11,
   "metadata": {},
   "outputs": [],
   "source": [
    "from tensorflow.keras.models import Sequential\n",
    "from tensorflow.keras.layers import Dense, Dropout, Flatten\n",
    "from tensorflow.keras.layers import Conv2D, MaxPooling2D\n",
    "from tensorflow.keras.optimizers import Adam\n",
    "\n",
    "\n",
    "def model_builder4(hp):\n",
    "    \n",
    "    model = Sequential()\n",
    "\n",
    "    model.add(Conv2D(16, (3, 3), activation='relu', input_shape=(28, 28, 1)))\n",
    "    # Max pooling\n",
    "    model.add(MaxPooling2D(pool_size=(2, 2)))\n",
    "    model.add(Dropout(rate=hp.Float('dropout', min_value = 0, max_value = 0.9, step = 0.1)))\n",
    "\n",
    "    model.add(Conv2D(32, (3, 3), activation='relu'))\n",
    "    # Max pooling\n",
    "    model.add(MaxPooling2D(pool_size=(2, 2)))\n",
    "    model.add(Flatten())\n",
    "\n",
    "    model.add(Dense(128, activation='relu'))\n",
    "    model.add(Dropout(rate=hp.Float('dropout', min_value = 0, max_value = 0.9, step = 0.1)))\n",
    "\n",
    "    model.add(Dense(10, activation='softmax'))\n",
    "\n",
    "    \n",
    "   \n",
    "    # Compile the model\n",
    "    model.compile(optimizer=keras.optimizers.Adam(lr=0.01, beta_1 = 0.5, beta_2=0.95, epsilon=7e-08, amsgrad=False), loss=keras.losses.CategoricalCrossentropy(from_logits=True), \n",
    "                  metrics=['accuracy'])\n",
    "\n",
    "    return model"
   ]
  },
  {
   "cell_type": "code",
   "execution_count": 12,
   "metadata": {},
   "outputs": [
    {
     "name": "stderr",
     "output_type": "stream",
     "text": [
      "c:\\users\\bo wu\\appdata\\local\\programs\\python\\python39\\lib\\site-packages\\keras\\optimizer_v2\\adam.py:105: UserWarning: The `lr` argument is deprecated, use `learning_rate` instead.\n",
      "  super(Adam, self).__init__(name, **kwargs)\n"
     ]
    }
   ],
   "source": [
    "tuner = kt.Hyperband(model_builder4,\n",
    "                     objective='val_accuracy',\n",
    "                     max_epochs=30,\n",
    "                     factor=3,\n",
    "                     directory='my_dir',\n",
    "                     project_name='tuning4')"
   ]
  },
  {
   "cell_type": "code",
   "execution_count": 13,
   "metadata": {},
   "outputs": [
    {
     "name": "stdout",
     "output_type": "stream",
     "text": [
      "Trial 10 Complete [00h 00m 00s]\n",
      "val_accuracy: 0.800000011920929\n",
      "\n",
      "Best val_accuracy So Far: 0.925000011920929\n",
      "Total elapsed time: 00h 00m 07s\n",
      "INFO:tensorflow:Oracle triggered exit\n"
     ]
    }
   ],
   "source": [
    "tuner.search(X_train, y_oh_train, epochs=50, validation_split=0.2)"
   ]
  },
  {
   "cell_type": "code",
   "execution_count": 14,
   "metadata": {},
   "outputs": [
    {
     "name": "stdout",
     "output_type": "stream",
     "text": [
      "\n",
      "The hyperparameter search is complete. The optimal dropout rate for the optimizer is 0.2.\n",
      "\n"
     ]
    }
   ],
   "source": [
    "best_hps=tuner.get_best_hyperparameters(num_trials=1)[0]\n",
    "\n",
    "print(f\"\"\"\n",
    "The hyperparameter search is complete. The optimal dropout rate for the optimizer is {best_hps.get('dropout')}.\n",
    "\"\"\")"
   ]
  },
  {
   "cell_type": "code",
   "execution_count": 20,
   "metadata": {},
   "outputs": [],
   "source": [
    "model.compile()"
   ]
  },
  {
   "cell_type": "code",
   "execution_count": 21,
   "metadata": {},
   "outputs": [
    {
     "name": "stderr",
     "output_type": "stream",
     "text": [
      "c:\\users\\bo wu\\appdata\\local\\programs\\python\\python39\\lib\\site-packages\\keras\\optimizer_v2\\adam.py:105: UserWarning: The `lr` argument is deprecated, use `learning_rate` instead.\n",
      "  super(Adam, self).__init__(name, **kwargs)\n"
     ]
    },
    {
     "name": "stdout",
     "output_type": "stream",
     "text": [
      "7/7 [==============================] - 0s 2ms/step - loss: 0.5164\n",
      "Accuracy: 0.99\n"
     ]
    }
   ],
   "source": [
    "model = Sequential()\n",
    "\n",
    "model.add(Conv2D(16, (3, 3), activation='relu', input_shape=(28, 28, 1)))\n",
    "# Max pooling\n",
    "model.add(MaxPooling2D(pool_size=(2, 2)))\n",
    "model.add(Dropout(0.2))\n",
    "\n",
    "model.add(Conv2D(32, (3, 3), activation='relu'))\n",
    "# Max pooling\n",
    "model.add(MaxPooling2D(pool_size=(2, 2)))\n",
    "model.add(Flatten())\n",
    "\n",
    "model.add(Dense(128, activation='relu'))\n",
    "model.add(Dropout(0.2))\n",
    "\n",
    "model.add(Dense(10, activation='softmax'))\n",
    "\n",
    "adam = Adam(lr=0.01, beta_1 = 0.5, beta_2=0.95, epsilon=7e-08, amsgrad=False)\n",
    "\n",
    "# Compile the model\n",
    "model.compile(loss='categorical_crossentropy', optimizer=adam)\n",
    "\n",
    "# Train the model\n",
    "compare = model.fit(X, y_oh, validation_split =.2, shuffle=True, batch_size=32, epochs=150, verbose=0)\n",
    "\n",
    "# Evaluate performance\n",
    "test_loss = model.evaluate(X_test, y_oh_test, batch_size=32)\n",
    "\n",
    "predictions = model.predict(X_test, batch_size=32)\n",
    "predictions = np.argmax(predictions, axis=1) # change encoding again\n",
    "print('Accuracy:', (predictions == y_test).sum() / predictions.shape[0])"
   ]
  },
  {
   "cell_type": "code",
   "execution_count": 22,
   "metadata": {},
   "outputs": [
    {
     "data": {
      "image/png": "[encoded data removed]",
      "text/plain": [
       "<Figure size 432x288 with 1 Axes>"
      ]
     },
     "metadata": {
      "needs_background": "light"
     },
     "output_type": "display_data"
    }
   ],
   "source": [
    "from matplotlib import pyplot as plt\n",
    "\n",
    "import pandas as pd\n",
    "p = pd.DataFrame(compare.history)\n",
    "p.plot()\n",
    "plt.show()"
   ]
  },
  {
   "cell_type": "code",
   "execution_count": 23,
   "metadata": {},
   "outputs": [
    {
     "data": {
      "text/plain": [
       "3"
      ]
     },
     "execution_count": 23,
     "metadata": {},
     "output_type": "execute_result"
    }
   ],
   "source": [
    "np.argmin(p['val_loss'])"
   ]
  }
 ],
 "metadata": {
  "kernelspec": {
   "display_name": "Python 3",
   "language": "python",
   "name": "python3"
  },
  "language_info": {
   "codemirror_mode": {
    "name": "ipython",
    "version": 3
   },
   "file_extension": ".py",
   "mimetype": "text/x-python",
   "name": "python",
   "nbconvert_exporter": "python",
   "pygments_lexer": "ipython3",
   "version": "3.9.5"
  }
 },
 "nbformat": 4,
 "nbformat_minor": 4
}
