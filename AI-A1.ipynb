{
 "cells": [
  {
   "cell_type": "code",
   "execution_count": 59,
   "id": "710d9d32-58ff-441e-a382-1f1b07b3dc4f",
   "metadata": {},
   "outputs": [
    {
     "name": "stdout",
     "output_type": "stream",
     "text": [
      "mammal\n"
     ]
    }
   ],
   "source": [
    "'''Question 1'''\n",
    "\n",
    "from experta import *\n",
    "\n",
    "class cover(Fact):\n",
    "    pass\n",
    "\n",
    "class wings(Fact):\n",
    "    pass\n",
    "\n",
    "class BirdorMammal(KnowledgeEngine):\n",
    "    '''Since all animals with fur are classified as mammals, as soon as we know that the animal has fur as cover, we can classify it as mammal without any information about its wings.'''\n",
    "    @Rule(cover(material='fur'))\n",
    "    def mammal(self):\n",
    "        print(\"mammal\")\n",
    "        \n",
    "    @Rule(cover(material='feather') & wings(yes=True))\n",
    "    def bird(self):\n",
    "        print(\"bird\")\n",
    "        \n",
    "    @Rule(cover(material='feather') & wings(yes=False))\n",
    "    def unknown(self):\n",
    "        print(\"unknown\")\n",
    "\n",
    "engine = BirdorMammal()\n",
    "engine.reset()\n",
    "engine.declare(cover(material='fur'),wings(yes=False))\n",
    "engine.run()"
   ]
  },
  {
   "cell_type": "code",
   "execution_count": 56,
   "id": "3526a92b-dda0-44e4-b696-499407c54011",
   "metadata": {},
   "outputs": [],
   "source": []
  },
  {
   "cell_type": "code",
   "execution_count": 57,
   "id": "a0764464-c9fc-4f82-b784-36fc39659878",
   "metadata": {},
   "outputs": [
    {
     "name": "stdout",
     "output_type": "stream",
     "text": [
      "unknown\n"
     ]
    }
   ],
   "source": [
    "'''Question 2'''\n",
    "\n",
    "from experta import *\n",
    "\n",
    "class singlecell(Fact):\n",
    "    pass\n",
    "\n",
    "class backbone(Fact):\n",
    "    pass\n",
    "\n",
    "class gills(Fact):\n",
    "    pass\n",
    "\n",
    "class feather(Fact):\n",
    "    pass\n",
    "\n",
    "class neocortex(Fact):\n",
    "    pass\n",
    "\n",
    "class AnimalIdentifier(KnowledgeEngine):\n",
    "    \n",
    "    '''Protozoas are single cell organisms, so they should not possess any complex features such as backbone, gills, feathers, and neocortex.'''\n",
    "    @Rule(singlecell(yes=True) & backbone(yes=False) & gills(yes=False) & feather(yes=False) & neocortex(yes=False))\n",
    "    def protozoa(self):\n",
    "        print(\"protozoa\")\n",
    "        engine.reset()\n",
    "        \n",
    "    '''Invertebrates do not have a backbone, nor are they single celled, they also lack more complex features such as gills, feathers, and neocortex.'''\n",
    "    @Rule(singlecell(yes=False) & backbone(yes=False) & gills(yes=False) & feather(yes=False) & neocortex(yes=False))\n",
    "    def invertebrate(self):\n",
    "        print(\"invertebrate\")\n",
    "        engine.reset()\n",
    "    \n",
    "    '''Fishes are not single celled creatures, they all possess both backbonses and gills but all lack feathers and neocortex.'''\n",
    "    @Rule(singlecell(yes=False) & backbone(yes=True) & gills(yes=True) & feather(yes=False) & neocortex(yes=False))\n",
    "    def fish(self):\n",
    "        print(\"fish\")\n",
    "        engine.reset()\n",
    "    \n",
    "    '''Birds are not single celled creatures, they all possess both backbonses and feathers but all lack gills and neocortex.'''\n",
    "    @Rule(singlecell(yes=False) & backbone(yes=True) & feather(yes=True) & gills(yes=False) & neocortex(yes=False))\n",
    "    def bird(self):\n",
    "        print(\"bird\")\n",
    "        engine.reset()\n",
    "    \n",
    "    '''Mammals are not single celled creatures, they all possess both backbonses and neocortex but all lack gills and feathers.'''\n",
    "    @Rule(singlecell(yes=False) & backbone(yes=True) & neocortex(yes=True) & feather(yes=False) & gills(yes=False))\n",
    "    def mammal(self):\n",
    "        print(\"mammal\")\n",
    "        engine.reset()\n",
    "    \n",
    "    '''Any organism with descriptions that do not match any of the above animals is classified as unknown.'''\n",
    "    @Rule()\n",
    "    def unknown(self):\n",
    "        print(\"unknown\")\n",
    "        engine.reset()\n",
    "        \n",
    "engine = AnimalIdentifier()\n",
    "engine.reset()\n",
    "engine.declare(singlecell(yes=False), backbone(yes=True), gills(yes=False), feather(yes=False), neocortex(yes=False))\n",
    "engine.run()"
   ]
  },
  {
   "cell_type": "code",
   "execution_count": null,
   "id": "7e6c1fcb-7aae-42f7-b382-75b05bb69477",
   "metadata": {},
   "outputs": [],
   "source": []
  },
  {
   "cell_type": "code",
   "execution_count": 63,
   "id": "ce5e83ae-1755-4599-a9f4-79b8dac7bced",
   "metadata": {},
   "outputs": [
    {
     "name": "stdin",
     "output_type": "stream",
     "text": [
      "What is the height of your Magic the Gathering card in inches? 3.5\n",
      "What is the width of the Magic the Gathering card in inches? 2.5\n",
      "After bending the card so that the top left corner of the card touches the bottom right corner, did the card return to its original position? Please answer yes/no yes\n",
      "Can the light from a flashlight pass through the card? Please answer yes/no yes\n",
      "Are you willing to rip your card in half to verify its authenticity? Please answer yes/no yes\n",
      "After ripping your card in half, can you see a blue paper stock inside the card? Please answer yes/no yes\n"
     ]
    },
    {
     "name": "stdout",
     "output_type": "stream",
     "text": [
      "The card that you just ripped in half is definitely a real Magic the Gathering card since it has passed all the tests.\n"
     ]
    }
   ],
   "source": [
    "'''Question 3'''\n",
    "\n",
    "from experta import *\n",
    "\n",
    "class Card_Authentication(KnowledgeEngine):\n",
    "     \n",
    "    @Rule()\n",
    "    def dimension_test(self):\n",
    "        self.declare(Fact(height=input(\"What is the height of your Magic the Gathering card in inches?\")))\n",
    "        self.declare(Fact(width=input(\"What is the width of the Magic the Gathering card in inches?\")))\n",
    "    \n",
    "    '''All Magic the Gathering cards are 3.5 inches in height and 2.5 inches in width.'''\n",
    "    @Rule(Fact(height=MATCH.height),Fact(width=MATCH.width))\n",
    "    def counterfeit1(self, height, width):\n",
    "        if height != '3.5' or width != '2.5':\n",
    "            print (\"Your card does not have the valid dimension of a standard Magic the Gathering card and is definitely a counterfeit.\")\n",
    "        else:\n",
    "            self.declare(Fact(bounce=input(\"After bending the card so that the top left corner of the card touches the bottom right corner, did the card return to its original position? Please answer yes/no\")))\n",
    "    \n",
    "    '''All Magic the Gathering cards are made of a highly bendable card stock that would allow for ease of shuffling and handling.'''\n",
    "    @Rule(Fact(bounce=MATCH.bounce))\n",
    "    def counterfeit2(self, bounce):\n",
    "        if bounce=='no':\n",
    "            print(\"Your card lacks the bendability of an authentic Magic the Gathering card and is likely a counterfeit.\")\n",
    "        elif bounce=='yes':\n",
    "            self.declare(Fact(light=input(\"Can the light from a flashlight pass through the card? Please answer yes/no\")))\n",
    "        else:\n",
    "            print(\"Please restart and provide valid responses\")\n",
    "            engine.reset()\n",
    "            engine.run()\n",
    "    \n",
    "    '''Counterfeit Magic the Gathering cards are made of cheaper card stocks that tend to be more opaque than authentic cards.'''\n",
    "    @Rule(Fact(light=MATCH.light))\n",
    "    def counterfeit3(self, light):\n",
    "        if light =='no':\n",
    "            print(\"Your card does not possess the same opacity as an authentic Magic the Gathering card and is likely a counterfeit.\")\n",
    "        elif light =='yes':\n",
    "            self.declare(Fact(rip=input(\"Are you willing to rip your card in half to verify its authenticity? Please answer yes/no\")))\n",
    "        else:\n",
    "            print(\"Please restart and provide valid responses\")\n",
    "            engine.reset()\n",
    "            engine.run()\n",
    "    \n",
    "    '''Since all Magic the Gathering cards are made of a unique blue card stock in the center, the most surefire way to test the authenticity of the card is to rip the card in half.'''\n",
    "    @Rule(Fact(rip=MATCH.rip))\n",
    "    def authentic1(self,rip):\n",
    "        if rip == 'no':\n",
    "            print(\"Your card already passed most of the authenticity tests and is most likely a genunine Magic the Gathering card.\")\n",
    "        elif rip == 'yes':\n",
    "            self.declare(Fact(blue=input(\"After ripping your card in half, can you see a blue paper stock inside the card? Please answer yes/no\")))\n",
    "        else:\n",
    "            print(\"Please restart and provide valid responses\")\n",
    "            engine.reset()\n",
    "            engine.run()\n",
    "    \n",
    "    @Rule(Fact(blue=MATCH.blue))\n",
    "    def authentic2(self, blue):\n",
    "        if blue == 'yes':\n",
    "            print(\"The card that you just ripped in half is definitely a real Magic the Gathering card since it has passed all the tests.\")\n",
    "        elif blue == 'no':\n",
    "            print(\"The card that you just ripped in half is definitely a counterfeit, so you shouldn't feel too bad about destroying it.\")\n",
    "        else:\n",
    "            print(\"Please restart and provide valid responses\")\n",
    "            engine.reset()\n",
    "            engine.run()\n",
    "        \n",
    "\n",
    "\n",
    "engine = Card_Authentication()\n",
    "engine.reset()\n",
    "engine.run()"
   ]
  },
  {
   "cell_type": "code",
   "execution_count": null,
   "id": "a2609200-db29-44cb-a5a3-603c24b9de50",
   "metadata": {},
   "outputs": [],
   "source": []
  },
  {
   "cell_type": "code",
   "execution_count": null,
   "id": "075ef604-7828-4fce-b59a-93d7b52aaedc",
   "metadata": {},
   "outputs": [],
   "source": [
    "        "
   ]
  },
  {
   "cell_type": "code",
   "execution_count": null,
   "id": "49128876-d8bf-43d3-9266-e833fdd5600b",
   "metadata": {},
   "outputs": [],
   "source": []
  },
  {
   "cell_type": "code",
   "execution_count": null,
   "id": "6c629d4f-de2b-4e16-97ba-5b121650c139",
   "metadata": {},
   "outputs": [],
   "source": []
  }
 ],
 "metadata": {
  "kernelspec": {
   "display_name": "Python 3",
   "language": "python",
   "name": "python3"
  },
  "language_info": {
   "codemirror_mode": {
    "name": "ipython",
    "version": 3
   },
   "file_extension": ".py",
   "mimetype": "text/x-python",
   "name": "python",
   "nbconvert_exporter": "python",
   "pygments_lexer": "ipython3",
   "version": "3.9.5"
  }
 },
 "nbformat": 4,
 "nbformat_minor": 5
}
