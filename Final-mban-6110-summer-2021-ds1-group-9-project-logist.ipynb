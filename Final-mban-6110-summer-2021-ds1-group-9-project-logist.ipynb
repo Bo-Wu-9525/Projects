{
 "cells": [
  {
   "cell_type": "markdown",
   "metadata": {},
   "source": [
    "### Group project:\n",
    "\n",
    "#### Market segmentation by logistic regression\n",
    "You are the members of the analytic department in the head office of a large car dealership chain. The marketing department needs to understand which potential clients in their database tend to buy a car and which just come to window-shop.\n",
    "Below are the suggested specific steps of analysis for those who like the detailed instructions. However, these steps may be changed by those who prefer free creativity.\n",
    "\n",
    "#### Part 1. Data preparation and visualization\n",
    "- 1.1. Read the dataset\n",
    "- 1.2. Delete all the rows containing the missing data. Imputation is not necessary.\n",
    "- 1.3. Encode the data where necessary.\n",
    "- 1.4. Visualize the columns and their pairs.\n",
    "- 1.5. Produce the correlation matrix to make a first guess on usefulness of the predictors.\n",
    "\n",
    "#### Part 2. Inference by logistic regression\n",
    "- 2.1. You have 3 predictors (sex, age, income) and the target class variable purchase, taking the value 1 if he or she already bought a car once in the past. To predict this class for new potential customers, you need to learn the logistic regression model parameters.\n",
    "- 2.2. Divide your client base into training and testing sets.\n",
    "- 2.3. Fit the model on a training set.\n",
    "- 2.4. Produce your estimated regression equation, interpret the coefficients and comment on the regression summary.\n",
    "- 2.5. Try to reduce your model, dropping some predictors, and repeat the above steps with each reduced version.\n",
    "- 2.6. Compare the fitting results for your models.\n",
    "\n",
    "#### Part 3. Prediction\n",
    "- 3.1. For each of the fitted models, predict the purchase class for the training set.\n",
    "- 3.2. For each of the fitted models, predict the purchase class for the testing set.\n",
    "\n",
    "#### Part 4. Evaluation of the prediction quality\n",
    "- 4.1. Produce the confusion matrix and the classification report for each of the predictions.\n",
    "- 4.2. Compare the results between the different models and also training versus testing sets.\n",
    "\n",
    "#### Part 5. Reporting\n",
    "- 5.1. Compose a business report of about 10 pages length, following the approximate structure:\n",
    "- 5.1.1. Title page, listing the group members, project title, school, course, submission date.\n",
    "- 5.1.2. Executive summary, containing your view of the problem setting, brief description of the intended analysis and all that usually pertains to this section\n",
    "- 5.1.3. Analysis section\n",
    "- 5.1.4. Conclusion\n",
    "- 5.1.5. References (on sources used and on the Python code on GIT or Colab)\n",
    "- 5.1.6. Attachment, including the Python code and other auxiliary materials\n",
    "- 5.2. Submit the report on canvas."
   ]
  },
  {
   "cell_type": "code",
   "execution_count": 1,
   "metadata": {
    "execution": {
     "iopub.execute_input": "2021-07-23T18:56:47.695666Z",
     "iopub.status.busy": "2021-07-23T18:56:47.695135Z",
     "iopub.status.idle": "2021-07-23T18:56:49.179716Z",
     "shell.execute_reply": "2021-07-23T18:56:49.178246Z",
     "shell.execute_reply.started": "2021-07-23T18:56:47.695566Z"
    }
   },
   "outputs": [],
   "source": [
    "# Import necessary Python Libraries:\n",
    "\n",
    "import seaborn as sns\n",
    "import numpy as np\n",
    "import matplotlib.pyplot as plt\n",
    "import pandas as pd"
   ]
  },
  {
   "cell_type": "code",
   "execution_count": 2,
   "metadata": {
    "execution": {
     "iopub.execute_input": "2021-07-23T18:56:49.182563Z",
     "iopub.status.busy": "2021-07-23T18:56:49.182160Z",
     "iopub.status.idle": "2021-07-23T18:56:49.213402Z",
     "shell.execute_reply": "2021-07-23T18:56:49.211334Z",
     "shell.execute_reply.started": "2021-07-23T18:56:49.182529Z"
    }
   },
   "outputs": [],
   "source": [
    "# 1.1 Read dataset:\n",
    "df = pd.read_csv('../input/assignment-ds1/dataset_assignment.csv')"
   ]
  },
  {
   "cell_type": "code",
   "execution_count": 3,
   "metadata": {
    "execution": {
     "iopub.execute_input": "2021-07-23T18:56:49.215785Z",
     "iopub.status.busy": "2021-07-23T18:56:49.215431Z",
     "iopub.status.idle": "2021-07-23T18:56:49.258380Z",
     "shell.execute_reply": "2021-07-23T18:56:49.256823Z",
     "shell.execute_reply.started": "2021-07-23T18:56:49.215758Z"
    },
    "scrolled": true
   },
   "outputs": [
    {
     "data": {
      "text/html": [
       "<div>\n",
       "<style scoped>\n",
       "    .dataframe tbody tr th:only-of-type {\n",
       "        vertical-align: middle;\n",
       "    }\n",
       "\n",
       "    .dataframe tbody tr th {\n",
       "        vertical-align: top;\n",
       "    }\n",
       "\n",
       "    .dataframe thead th {\n",
       "        text-align: right;\n",
       "    }\n",
       "</style>\n",
       "<table border=\"1\" class=\"dataframe\">\n",
       "  <thead>\n",
       "    <tr style=\"text-align: right;\">\n",
       "      <th></th>\n",
       "      <th>Identifier</th>\n",
       "      <th>sex</th>\n",
       "      <th>age</th>\n",
       "      <th>income</th>\n",
       "      <th>purchase</th>\n",
       "    </tr>\n",
       "  </thead>\n",
       "  <tbody>\n",
       "    <tr>\n",
       "      <th>0</th>\n",
       "      <td>15624510</td>\n",
       "      <td>Male</td>\n",
       "      <td>19.0</td>\n",
       "      <td>19000.0</td>\n",
       "      <td>0.0</td>\n",
       "    </tr>\n",
       "    <tr>\n",
       "      <th>1</th>\n",
       "      <td>15810944</td>\n",
       "      <td>Male</td>\n",
       "      <td>35.0</td>\n",
       "      <td>20000.0</td>\n",
       "      <td>0.0</td>\n",
       "    </tr>\n",
       "    <tr>\n",
       "      <th>2</th>\n",
       "      <td>15668575</td>\n",
       "      <td>Female</td>\n",
       "      <td>26.0</td>\n",
       "      <td>43000.0</td>\n",
       "      <td>0.0</td>\n",
       "    </tr>\n",
       "    <tr>\n",
       "      <th>3</th>\n",
       "      <td>15603246</td>\n",
       "      <td>Female</td>\n",
       "      <td>27.0</td>\n",
       "      <td>57000.0</td>\n",
       "      <td>0.0</td>\n",
       "    </tr>\n",
       "    <tr>\n",
       "      <th>4</th>\n",
       "      <td>15804002</td>\n",
       "      <td>Male</td>\n",
       "      <td>19.0</td>\n",
       "      <td>76000.0</td>\n",
       "      <td>0.0</td>\n",
       "    </tr>\n",
       "  </tbody>\n",
       "</table>\n",
       "</div>"
      ],
      "text/plain": [
       "   Identifier     sex   age   income  purchase\n",
       "0    15624510    Male  19.0  19000.0       0.0\n",
       "1    15810944    Male  35.0  20000.0       0.0\n",
       "2    15668575  Female  26.0  43000.0       0.0\n",
       "3    15603246  Female  27.0  57000.0       0.0\n",
       "4    15804002    Male  19.0  76000.0       0.0"
      ]
     },
     "execution_count": 3,
     "metadata": {},
     "output_type": "execute_result"
    }
   ],
   "source": [
    "df.head()"
   ]
  },
  {
   "cell_type": "code",
   "execution_count": 4,
   "metadata": {
    "execution": {
     "iopub.execute_input": "2021-07-23T18:57:16.837419Z",
     "iopub.status.busy": "2021-07-23T18:57:16.837003Z",
     "iopub.status.idle": "2021-07-23T18:57:16.871820Z",
     "shell.execute_reply": "2021-07-23T18:57:16.870462Z",
     "shell.execute_reply.started": "2021-07-23T18:57:16.837385Z"
    }
   },
   "outputs": [
    {
     "name": "stdout",
     "output_type": "stream",
     "text": [
      "(502, 5)\n",
      "\n",
      "\n",
      "<class 'pandas.core.frame.DataFrame'>\n",
      "RangeIndex: 502 entries, 0 to 501\n",
      "Data columns (total 5 columns):\n",
      " #   Column      Non-Null Count  Dtype  \n",
      "---  ------      --------------  -----  \n",
      " 0   Identifier  502 non-null    int64  \n",
      " 1   sex         502 non-null    object \n",
      " 2   age         481 non-null    float64\n",
      " 3   income      476 non-null    float64\n",
      " 4   purchase    482 non-null    float64\n",
      "dtypes: float64(3), int64(1), object(1)\n",
      "memory usage: 19.7+ KB\n",
      "None\n"
     ]
    }
   ],
   "source": [
    "# Lets look at the overall size/shape of the dataset:\n",
    "print(df.shape)\n",
    "print()\n",
    "print()\n",
    "print(df.info())"
   ]
  },
  {
   "cell_type": "code",
   "execution_count": 5,
   "metadata": {
    "execution": {
     "iopub.execute_input": "2021-07-23T18:57:19.548160Z",
     "iopub.status.busy": "2021-07-23T18:57:19.547752Z",
     "iopub.status.idle": "2021-07-23T18:57:19.583939Z",
     "shell.execute_reply": "2021-07-23T18:57:19.582980Z",
     "shell.execute_reply.started": "2021-07-23T18:57:19.548123Z"
    },
    "scrolled": true
   },
   "outputs": [
    {
     "data": {
      "text/plain": [
       "Identifier    0.000000\n",
       "sex           0.000000\n",
       "age           0.041833\n",
       "income        0.051793\n",
       "purchase      0.039841\n",
       "dtype: float64"
      ]
     },
     "execution_count": 5,
     "metadata": {},
     "output_type": "execute_result"
    }
   ],
   "source": [
    "percent_missing = df.isnull().sum()/len(df)\n",
    "percent_missing"
   ]
  },
  {
   "cell_type": "markdown",
   "metadata": {},
   "source": [
    "Identifier and sex have no null values. \n",
    "\n",
    "Age and purchase have less than 5% null\n",
    "\n",
    "Income is 5.2% null. "
   ]
  },
  {
   "cell_type": "code",
   "execution_count": 6,
   "metadata": {
    "execution": {
     "iopub.execute_input": "2021-07-23T18:57:22.283822Z",
     "iopub.status.busy": "2021-07-23T18:57:22.283217Z",
     "iopub.status.idle": "2021-07-23T18:57:22.290132Z",
     "shell.execute_reply": "2021-07-23T18:57:22.289163Z",
     "shell.execute_reply.started": "2021-07-23T18:57:22.283786Z"
    },
    "scrolled": true
   },
   "outputs": [
    {
     "name": "stdout",
     "output_type": "stream",
     "text": [
      "df length: 502\n",
      "5% of df length: 25.1\n"
     ]
    }
   ],
   "source": [
    "# given that the length of the dataframe is only 502 datapoints, simply getting rid of null values would result in a\n",
    "# lot of data lost \n",
    "print(\"df length:\", len(df))\n",
    "print(\"5% of df length:\", 0.05*len(df))"
   ]
  },
  {
   "cell_type": "code",
   "execution_count": 7,
   "metadata": {
    "execution": {
     "iopub.execute_input": "2021-07-23T18:57:23.845231Z",
     "iopub.status.busy": "2021-07-23T18:57:23.844871Z",
     "iopub.status.idle": "2021-07-23T18:57:23.856906Z",
     "shell.execute_reply": "2021-07-23T18:57:23.854939Z",
     "shell.execute_reply.started": "2021-07-23T18:57:23.845200Z"
    }
   },
   "outputs": [],
   "source": [
    "# However given the guidance \"1.2. Delete all the rows containing the missing data. Imputation is not necessary.\"\n",
    "\n",
    "df.dropna(inplace=True)"
   ]
  },
  {
   "cell_type": "code",
   "execution_count": 8,
   "metadata": {
    "execution": {
     "iopub.execute_input": "2021-07-23T18:57:25.349277Z",
     "iopub.status.busy": "2021-07-23T18:57:25.348639Z",
     "iopub.status.idle": "2021-07-23T18:57:25.360491Z",
     "shell.execute_reply": "2021-07-23T18:57:25.359218Z",
     "shell.execute_reply.started": "2021-07-23T18:57:25.349234Z"
    },
    "scrolled": true
   },
   "outputs": [
    {
     "data": {
      "text/plain": [
       "Identifier    0.0\n",
       "sex           0.0\n",
       "age           0.0\n",
       "income        0.0\n",
       "purchase      0.0\n",
       "dtype: float64"
      ]
     },
     "execution_count": 8,
     "metadata": {},
     "output_type": "execute_result"
    }
   ],
   "source": [
    "percent_missing = df.isnull().sum()/len(df)\n",
    "percent_missing"
   ]
  },
  {
   "cell_type": "code",
   "execution_count": 9,
   "metadata": {
    "execution": {
     "iopub.execute_input": "2021-07-23T18:57:27.019761Z",
     "iopub.status.busy": "2021-07-23T18:57:27.019332Z",
     "iopub.status.idle": "2021-07-23T18:57:27.038485Z",
     "shell.execute_reply": "2021-07-23T18:57:27.036497Z",
     "shell.execute_reply.started": "2021-07-23T18:57:27.019719Z"
    }
   },
   "outputs": [
    {
     "data": {
      "text/html": [
       "<div>\n",
       "<style scoped>\n",
       "    .dataframe tbody tr th:only-of-type {\n",
       "        vertical-align: middle;\n",
       "    }\n",
       "\n",
       "    .dataframe tbody tr th {\n",
       "        vertical-align: top;\n",
       "    }\n",
       "\n",
       "    .dataframe thead th {\n",
       "        text-align: right;\n",
       "    }\n",
       "</style>\n",
       "<table border=\"1\" class=\"dataframe\">\n",
       "  <thead>\n",
       "    <tr style=\"text-align: right;\">\n",
       "      <th></th>\n",
       "      <th>Identifier</th>\n",
       "      <th>sex</th>\n",
       "      <th>age</th>\n",
       "      <th>income</th>\n",
       "      <th>purchase</th>\n",
       "    </tr>\n",
       "  </thead>\n",
       "  <tbody>\n",
       "    <tr>\n",
       "      <th>0</th>\n",
       "      <td>15624510</td>\n",
       "      <td>Male</td>\n",
       "      <td>19.0</td>\n",
       "      <td>19000.0</td>\n",
       "      <td>0.0</td>\n",
       "    </tr>\n",
       "    <tr>\n",
       "      <th>1</th>\n",
       "      <td>15810944</td>\n",
       "      <td>Male</td>\n",
       "      <td>35.0</td>\n",
       "      <td>20000.0</td>\n",
       "      <td>0.0</td>\n",
       "    </tr>\n",
       "    <tr>\n",
       "      <th>2</th>\n",
       "      <td>15668575</td>\n",
       "      <td>Female</td>\n",
       "      <td>26.0</td>\n",
       "      <td>43000.0</td>\n",
       "      <td>0.0</td>\n",
       "    </tr>\n",
       "    <tr>\n",
       "      <th>3</th>\n",
       "      <td>15603246</td>\n",
       "      <td>Female</td>\n",
       "      <td>27.0</td>\n",
       "      <td>57000.0</td>\n",
       "      <td>0.0</td>\n",
       "    </tr>\n",
       "    <tr>\n",
       "      <th>4</th>\n",
       "      <td>15804002</td>\n",
       "      <td>Male</td>\n",
       "      <td>19.0</td>\n",
       "      <td>76000.0</td>\n",
       "      <td>0.0</td>\n",
       "    </tr>\n",
       "  </tbody>\n",
       "</table>\n",
       "</div>"
      ],
      "text/plain": [
       "   Identifier     sex   age   income  purchase\n",
       "0    15624510    Male  19.0  19000.0       0.0\n",
       "1    15810944    Male  35.0  20000.0       0.0\n",
       "2    15668575  Female  26.0  43000.0       0.0\n",
       "3    15603246  Female  27.0  57000.0       0.0\n",
       "4    15804002    Male  19.0  76000.0       0.0"
      ]
     },
     "execution_count": 9,
     "metadata": {},
     "output_type": "execute_result"
    }
   ],
   "source": [
    "df.head()"
   ]
  },
  {
   "cell_type": "code",
   "execution_count": null,
   "metadata": {
    "execution": {
     "iopub.execute_input": "2021-07-21T19:04:25.428663Z",
     "iopub.status.busy": "2021-07-21T19:04:25.428332Z",
     "iopub.status.idle": "2021-07-21T19:04:25.452834Z",
     "shell.execute_reply": "2021-07-21T19:04:25.451938Z",
     "shell.execute_reply.started": "2021-07-21T19:04:25.428633Z"
    }
   },
   "outputs": [],
   "source": [
    "# Look at the distribution of the dataset and quantiles: \n",
    "df.describe()"
   ]
  },
  {
   "cell_type": "code",
   "execution_count": 10,
   "metadata": {
    "execution": {
     "iopub.execute_input": "2021-07-23T18:57:30.552817Z",
     "iopub.status.busy": "2021-07-23T18:57:30.552262Z",
     "iopub.status.idle": "2021-07-23T18:57:30.562589Z",
     "shell.execute_reply": "2021-07-23T18:57:30.560870Z",
     "shell.execute_reply.started": "2021-07-23T18:57:30.552784Z"
    },
    "scrolled": true
   },
   "outputs": [
    {
     "data": {
      "text/plain": [
       "0.0    271\n",
       "1.0    167\n",
       "Name: purchase, dtype: int64"
      ]
     },
     "execution_count": 10,
     "metadata": {},
     "output_type": "execute_result"
    }
   ],
   "source": [
    "# Breakdown of classes is disproportionate so we may need to use upsampling or down sampling to get a more \n",
    "# accurate model: \n",
    "df['purchase'].value_counts()"
   ]
  },
  {
   "cell_type": "code",
   "execution_count": 12,
   "metadata": {
    "execution": {
     "iopub.execute_input": "2021-07-23T18:58:33.209978Z",
     "iopub.status.busy": "2021-07-23T18:58:33.209644Z",
     "iopub.status.idle": "2021-07-23T18:58:33.417849Z",
     "shell.execute_reply": "2021-07-23T18:58:33.415667Z",
     "shell.execute_reply.started": "2021-07-23T18:58:33.209953Z"
    },
    "scrolled": true
   },
   "outputs": [
    {
     "name": "stdout",
     "output_type": "stream",
     "text": [
      "Female    225\n",
      "Male      213\n",
      "Name: sex, dtype: int64\n"
     ]
    },
    {
     "data": {
      "image/png": "[encoded data removed]",
      "text/plain": [
       "<Figure size 432x288 with 1 Axes>"
      ]
     },
     "metadata": {
      "needs_background": "light"
     },
     "output_type": "display_data"
    }
   ],
   "source": [
    "# Plot the frequencies of each category: \n",
    "df['sex'].value_counts().plot(kind='bar')\n",
    "\n",
    "# Display numerical values: \n",
    "print(df['sex'].value_counts())"
   ]
  },
  {
   "cell_type": "code",
   "execution_count": 13,
   "metadata": {
    "execution": {
     "iopub.execute_input": "2021-07-23T18:58:35.542300Z",
     "iopub.status.busy": "2021-07-23T18:58:35.541814Z",
     "iopub.status.idle": "2021-07-23T18:58:35.704443Z",
     "shell.execute_reply": "2021-07-23T18:58:35.703221Z",
     "shell.execute_reply.started": "2021-07-23T18:58:35.542265Z"
    }
   },
   "outputs": [
    {
     "name": "stdout",
     "output_type": "stream",
     "text": [
      "35.0    32\n",
      "37.0    23\n",
      "42.0    21\n",
      "41.0    19\n",
      "38.0    17\n",
      "47.0    17\n",
      "39.0    17\n",
      "40.0    16\n",
      "26.0    16\n",
      "46.0    15\n",
      "48.0    14\n",
      "36.0    13\n",
      "27.0    13\n",
      "28.0    12\n",
      "30.0    11\n",
      "31.0    11\n",
      "29.0    10\n",
      "49.0    10\n",
      "60.0    10\n",
      "24.0     9\n",
      "59.0     9\n",
      "33.0     9\n",
      "32.0     9\n",
      "58.0     8\n",
      "45.0     7\n",
      "54.0     7\n",
      "53.0     7\n",
      "19.0     7\n",
      "20.0     7\n",
      "23.0     6\n",
      "52.0     6\n",
      "34.0     6\n",
      "25.0     6\n",
      "57.0     5\n",
      "18.0     5\n",
      "22.0     5\n",
      "43.0     4\n",
      "21.0     4\n",
      "50.0     4\n",
      "51.0     3\n",
      "56.0     3\n",
      "55.0     3\n",
      "44.0     2\n",
      "Name: age, dtype: int64\n"
     ]
    },
    {
     "data": {
      "image/png": "[encoded data removed]",
      "text/plain": [
       "<Figure size 432x288 with 1 Axes>"
      ]
     },
     "metadata": {
      "needs_background": "light"
     },
     "output_type": "display_data"
    }
   ],
   "source": [
    "df['age'].plot(kind='hist', bins = 5)\n",
    "\n",
    "print(df['age'].value_counts())"
   ]
  },
  {
   "cell_type": "code",
   "execution_count": 14,
   "metadata": {
    "execution": {
     "iopub.execute_input": "2021-07-23T18:58:38.625705Z",
     "iopub.status.busy": "2021-07-23T18:58:38.625382Z",
     "iopub.status.idle": "2021-07-23T18:58:38.753854Z",
     "shell.execute_reply": "2021-07-23T18:58:38.753136Z",
     "shell.execute_reply.started": "2021-07-23T18:58:38.625671Z"
    },
    "scrolled": true
   },
   "outputs": [
    {
     "data": {
      "image/png": "[encoded data removed]",
      "text/plain": [
       "<Figure size 432x288 with 1 Axes>"
      ]
     },
     "metadata": {
      "needs_background": "light"
     },
     "output_type": "display_data"
    }
   ],
   "source": [
    "num_columns = ['income']\n",
    "\n",
    "for col_name in num_columns:\n",
    "    plt.figure()\n",
    "    plt.hist(df[col_name])\n",
    "    plt.title(col_name + ' value distribution')\n",
    "    plt.show()"
   ]
  },
  {
   "cell_type": "code",
   "execution_count": 15,
   "metadata": {
    "execution": {
     "iopub.execute_input": "2021-07-23T18:58:40.495574Z",
     "iopub.status.busy": "2021-07-23T18:58:40.495038Z",
     "iopub.status.idle": "2021-07-23T18:58:42.839276Z",
     "shell.execute_reply": "2021-07-23T18:58:42.837395Z",
     "shell.execute_reply.started": "2021-07-23T18:58:40.495537Z"
    }
   },
   "outputs": [
    {
     "data": {
      "image/png": "[encoded data removed]",
      "text/plain": [
       "<Figure size 540x540 with 12 Axes>"
      ]
     },
     "metadata": {
      "needs_background": "light"
     },
     "output_type": "display_data"
    }
   ],
   "source": [
    "sns.pairplot(df[['sex', 'age', 'income', 'purchase']]);"
   ]
  },
  {
   "cell_type": "code",
   "execution_count": 16,
   "metadata": {
    "execution": {
     "iopub.execute_input": "2021-07-23T18:58:45.282060Z",
     "iopub.status.busy": "2021-07-23T18:58:45.281706Z",
     "iopub.status.idle": "2021-07-23T18:58:45.293803Z",
     "shell.execute_reply": "2021-07-23T18:58:45.291751Z",
     "shell.execute_reply.started": "2021-07-23T18:58:45.282034Z"
    },
    "scrolled": true
   },
   "outputs": [],
   "source": [
    "df = pd.get_dummies(df, drop_first=True)"
   ]
  },
  {
   "cell_type": "code",
   "execution_count": 17,
   "metadata": {
    "execution": {
     "iopub.execute_input": "2021-07-23T18:58:47.194354Z",
     "iopub.status.busy": "2021-07-23T18:58:47.193984Z",
     "iopub.status.idle": "2021-07-23T18:58:47.213431Z",
     "shell.execute_reply": "2021-07-23T18:58:47.211767Z",
     "shell.execute_reply.started": "2021-07-23T18:58:47.194325Z"
    }
   },
   "outputs": [
    {
     "data": {
      "text/html": [
       "<div>\n",
       "<style scoped>\n",
       "    .dataframe tbody tr th:only-of-type {\n",
       "        vertical-align: middle;\n",
       "    }\n",
       "\n",
       "    .dataframe tbody tr th {\n",
       "        vertical-align: top;\n",
       "    }\n",
       "\n",
       "    .dataframe thead th {\n",
       "        text-align: right;\n",
       "    }\n",
       "</style>\n",
       "<table border=\"1\" class=\"dataframe\">\n",
       "  <thead>\n",
       "    <tr style=\"text-align: right;\">\n",
       "      <th></th>\n",
       "      <th>Identifier</th>\n",
       "      <th>age</th>\n",
       "      <th>income</th>\n",
       "      <th>purchase</th>\n",
       "      <th>sex_Male</th>\n",
       "    </tr>\n",
       "  </thead>\n",
       "  <tbody>\n",
       "    <tr>\n",
       "      <th>Identifier</th>\n",
       "      <td>1.000000</td>\n",
       "      <td>-0.000357</td>\n",
       "      <td>0.062129</td>\n",
       "      <td>-0.007346</td>\n",
       "      <td>-0.043340</td>\n",
       "    </tr>\n",
       "    <tr>\n",
       "      <th>age</th>\n",
       "      <td>-0.000357</td>\n",
       "      <td>1.000000</td>\n",
       "      <td>0.127944</td>\n",
       "      <td>0.632383</td>\n",
       "      <td>-0.076477</td>\n",
       "    </tr>\n",
       "    <tr>\n",
       "      <th>income</th>\n",
       "      <td>0.062129</td>\n",
       "      <td>0.127944</td>\n",
       "      <td>1.000000</td>\n",
       "      <td>0.336978</td>\n",
       "      <td>-0.027163</td>\n",
       "    </tr>\n",
       "    <tr>\n",
       "      <th>purchase</th>\n",
       "      <td>-0.007346</td>\n",
       "      <td>0.632383</td>\n",
       "      <td>0.336978</td>\n",
       "      <td>1.000000</td>\n",
       "      <td>-0.030211</td>\n",
       "    </tr>\n",
       "    <tr>\n",
       "      <th>sex_Male</th>\n",
       "      <td>-0.043340</td>\n",
       "      <td>-0.076477</td>\n",
       "      <td>-0.027163</td>\n",
       "      <td>-0.030211</td>\n",
       "      <td>1.000000</td>\n",
       "    </tr>\n",
       "  </tbody>\n",
       "</table>\n",
       "</div>"
      ],
      "text/plain": [
       "            Identifier       age    income  purchase  sex_Male\n",
       "Identifier    1.000000 -0.000357  0.062129 -0.007346 -0.043340\n",
       "age          -0.000357  1.000000  0.127944  0.632383 -0.076477\n",
       "income        0.062129  0.127944  1.000000  0.336978 -0.027163\n",
       "purchase     -0.007346  0.632383  0.336978  1.000000 -0.030211\n",
       "sex_Male     -0.043340 -0.076477 -0.027163 -0.030211  1.000000"
      ]
     },
     "execution_count": 17,
     "metadata": {},
     "output_type": "execute_result"
    }
   ],
   "source": [
    "df.corr()"
   ]
  },
  {
   "cell_type": "code",
   "execution_count": 18,
   "metadata": {
    "execution": {
     "iopub.execute_input": "2021-07-23T18:58:52.109942Z",
     "iopub.status.busy": "2021-07-23T18:58:52.109549Z",
     "iopub.status.idle": "2021-07-23T18:58:52.118620Z",
     "shell.execute_reply": "2021-07-23T18:58:52.116786Z",
     "shell.execute_reply.started": "2021-07-23T18:58:52.109911Z"
    }
   },
   "outputs": [],
   "source": [
    "X = df[['age', 'income', 'sex_Male']]\n",
    "y = df['purchase']"
   ]
  },
  {
   "cell_type": "code",
   "execution_count": 19,
   "metadata": {
    "execution": {
     "iopub.execute_input": "2021-07-23T18:58:54.681001Z",
     "iopub.status.busy": "2021-07-23T18:58:54.680569Z",
     "iopub.status.idle": "2021-07-23T18:58:54.690354Z",
     "shell.execute_reply": "2021-07-23T18:58:54.689121Z",
     "shell.execute_reply.started": "2021-07-23T18:58:54.680967Z"
    },
    "scrolled": true
   },
   "outputs": [
    {
     "data": {
      "text/plain": [
       "0.0    271\n",
       "1.0    167\n",
       "Name: purchase, dtype: int64"
      ]
     },
     "execution_count": 19,
     "metadata": {},
     "output_type": "execute_result"
    }
   ],
   "source": [
    "# Bit of an unbalanced classification \n",
    "y.value_counts()"
   ]
  },
  {
   "cell_type": "markdown",
   "metadata": {},
   "source": [
    "#### Part 2. Inference by logistic regression\n",
    "- 2.1. You have 3 predictors (sex, age, income) and the target class variable purchase, taking the value 1 if he or she already bought a car once in the past. To predict this class for new potential customers, you need to learn the logistic regression model parameters.\n",
    "- 2.2. Divide your client base into training and testing sets.\n",
    "- 2.3. Fit the model on a training set.\n",
    "- 2.4. Produce your estimated regression equation, interpret the coefficients and comment on the regression summary.\n",
    "- 2.5. Try to reduce your model, dropping some predictors, and repeat the above steps with each reduced version.\n",
    "- 2.6. Compare the fitting results for your models.\n"
   ]
  },
  {
   "cell_type": "code",
   "execution_count": 20,
   "metadata": {
    "execution": {
     "iopub.execute_input": "2021-07-23T18:59:05.521825Z",
     "iopub.status.busy": "2021-07-23T18:59:05.521302Z",
     "iopub.status.idle": "2021-07-23T18:59:05.533001Z",
     "shell.execute_reply": "2021-07-23T18:59:05.532060Z",
     "shell.execute_reply.started": "2021-07-23T18:59:05.521782Z"
    }
   },
   "outputs": [],
   "source": [
    "# Create different X groups, for the different models we will be running (This is required given that the train and test data need to have the same number of predictors)\n",
    "X2 = X.drop(['sex_Male'], axis=1)\n",
    "X3 = X.drop(['age'], axis=1)\n",
    "X4 = X.drop(['income'], axis=1)\n",
    "X5 = X.drop(['age', 'sex_Male'], axis=1)\n",
    "X6 = X.drop(['income', 'sex_Male'], axis=1)\n",
    "X7 = X.drop(['income', 'age'], axis=1)"
   ]
  },
  {
   "cell_type": "code",
   "execution_count": 21,
   "metadata": {
    "execution": {
     "iopub.execute_input": "2021-07-23T19:01:42.110384Z",
     "iopub.status.busy": "2021-07-23T19:01:42.109796Z",
     "iopub.status.idle": "2021-07-23T19:01:42.432616Z",
     "shell.execute_reply": "2021-07-23T19:01:42.430430Z",
     "shell.execute_reply.started": "2021-07-23T19:01:42.110348Z"
    }
   },
   "outputs": [],
   "source": [
    "# 2.1: \n",
    "#2.2: \n",
    "# May need smote, downsampling or upsampling, but first train and test splits:\n",
    "from sklearn.model_selection import train_test_split\n",
    "# random_state=10 selected to get replicability. Save as X_tr and y_tr because re-sampling still needs to occur:\n",
    "X_tr, X_test, y_tr, y_test = train_test_split(X, y, test_size = 0.25, random_state=5)\n",
    "X_tr2, X_test2, y_tr, y_test = train_test_split(X2, y, test_size = 0.25, random_state=5)\n",
    "X_tr3, X_test3, y_tr, y_test = train_test_split(X3, y, test_size = 0.25, random_state=5) \n",
    "X_tr4, X_test4, y_tr, y_test = train_test_split(X4, y, test_size = 0.25, random_state=5) \n",
    "X_tr5, X_test5, y_tr, y_test = train_test_split(X5, y, test_size = 0.25, random_state=5) \n",
    "X_tr6, X_test6, y_tr, y_test = train_test_split(X6, y, test_size = 0.25, random_state=5) \n",
    "X_tr7, X_test7, y_tr, y_test = train_test_split(X7, y, test_size = 0.25, random_state=5) \n"
   ]
  },
  {
   "cell_type": "code",
   "execution_count": null,
   "metadata": {
    "execution": {
     "iopub.execute_input": "2021-07-21T19:04:28.184346Z",
     "iopub.status.busy": "2021-07-21T19:04:28.184007Z",
     "iopub.status.idle": "2021-07-21T19:04:28.206654Z",
     "shell.execute_reply": "2021-07-21T19:04:28.205446Z",
     "shell.execute_reply.started": "2021-07-21T19:04:28.184316Z"
    }
   },
   "outputs": [],
   "source": [
    "# COULD DO THIS METHOD HOWEVER WE ARE NOT USING THIS METHOD FOR THIS PROJECT: \n",
    "\n",
    "from imblearn.over_sampling import SMOTE\n",
    "# The main parameter we can set with SMOTE, is k_neighbors, which is the number of nearest neighbours used to \n",
    "# construct synthetic samples, for the purposes of this model, let's pick 2:\n",
    "#Intiate SMOTE:\n",
    "smote = SMOTE(k_neighbors=2, n_jobs = -1, random_state=1)\n",
    "X_train_s, y_train = smote.fit_resample(X_tr,y_tr)\n",
    "\n",
    "# Save X_smote as a df in order to pull out feature names:\n",
    "X_train_s = pd.DataFrame(X_train_s, columns = X_tr.columns)\n",
    "\n",
    "# Show how the smote works effectively as another way of oversampling:\n",
    "unique, counts = np.unique(y_train, return_counts = True)\n",
    "print(np.asarray((unique, counts)).T)\n",
    "print()"
   ]
  },
  {
   "cell_type": "code",
   "execution_count": null,
   "metadata": {
    "execution": {
     "iopub.execute_input": "2021-07-21T19:04:28.208563Z",
     "iopub.status.busy": "2021-07-21T19:04:28.208135Z",
     "iopub.status.idle": "2021-07-21T19:04:28.212814Z",
     "shell.execute_reply": "2021-07-21T19:04:28.211599Z",
     "shell.execute_reply.started": "2021-07-21T19:04:28.208519Z"
    }
   },
   "outputs": [],
   "source": [
    "# Problem with the above method, because smote makes imaginary data points it works well for age and income but for the sex\n",
    "# feature SMOTE does not work as it may select values between 1 and 0. Therefore a RandomOversampler makes the most \n",
    "# sense: "
   ]
  },
  {
   "cell_type": "code",
   "execution_count": 22,
   "metadata": {
    "execution": {
     "iopub.execute_input": "2021-07-23T19:03:27.686814Z",
     "iopub.status.busy": "2021-07-23T19:03:27.686246Z",
     "iopub.status.idle": "2021-07-23T19:03:28.217722Z",
     "shell.execute_reply": "2021-07-23T19:03:28.216427Z",
     "shell.execute_reply.started": "2021-07-23T19:03:27.686776Z"
    }
   },
   "outputs": [
    {
     "name": "stdout",
     "output_type": "stream",
     "text": [
      "[[  0. 205.]\n",
      " [  1. 205.]]\n",
      "\n"
     ]
    }
   ],
   "source": [
    "from imblearn.over_sampling import RandomOverSampler\n",
    "\n",
    "# Added random state to replicate results: \n",
    "ROS = RandomOverSampler(random_state=5)\n",
    "X_train, y_train = ROS.fit_resample(X_tr, y_tr)\n",
    "X_train2, y_train = ROS.fit_resample(X_tr2, y_tr)\n",
    "X_train3, y_train = ROS.fit_resample(X_tr3, y_tr)\n",
    "X_train4, y_train = ROS.fit_resample(X_tr4, y_tr)\n",
    "X_train5, y_train = ROS.fit_resample(X_tr5, y_tr)\n",
    "X_train6, y_train = ROS.fit_resample(X_tr6, y_tr)\n",
    "X_train7, y_train = ROS.fit_resample(X_tr7, y_tr)\n",
    "\n",
    "X_train = pd.DataFrame(X_train, columns = X_tr.columns)\n",
    "X_train2 = pd.DataFrame(X_train2, columns = X_tr2.columns)\n",
    "X_train3 = pd.DataFrame(X_train3, columns = X_tr3.columns)\n",
    "X_train4 = pd.DataFrame(X_train4, columns = X_tr4.columns)\n",
    "X_train5 = pd.DataFrame(X_train5, columns = X_tr5.columns)\n",
    "X_train6 = pd.DataFrame(X_train6, columns = X_tr6.columns)\n",
    "X_train7 = pd.DataFrame(X_train7, columns = X_tr7.columns)\n",
    "\n",
    "\n",
    "# Show how the smote works effectively as another way of oversampling:\n",
    "unique, counts = np.unique(y_train, return_counts = True)\n",
    "print(np.asarray((unique, counts)).T)\n",
    "print()"
   ]
  },
  {
   "cell_type": "code",
   "execution_count": 24,
   "metadata": {
    "execution": {
     "iopub.execute_input": "2021-07-23T19:06:16.552406Z",
     "iopub.status.busy": "2021-07-23T19:06:16.551847Z",
     "iopub.status.idle": "2021-07-23T19:06:16.564405Z",
     "shell.execute_reply": "2021-07-23T19:06:16.562086Z",
     "shell.execute_reply.started": "2021-07-23T19:06:16.552366Z"
    }
   },
   "outputs": [],
   "source": [
    "# Note: only the optimal model (i.e. all predictors included has had the standard scaler fit to it, due to it being inefficient to scale all 7 sets)\n",
    "\n",
    "from sklearn.preprocessing import StandardScaler\n",
    "# First dataset: \n",
    "scaler = StandardScaler()\n",
    "scaler = scaler.fit(X_train)\n",
    "\n",
    "# transform X_train, however put X_train in to a df in order to easier pull out the coefficients:\n",
    "scaled_features = scaler.transform(X_train.values)\n",
    "X_train = pd.DataFrame(scaled_features, index=X_train.index, columns=X_train.columns)\n",
    "\n",
    "# transform X_test and X_validation as well:\n",
    "X_test = scaler.transform(X_test.values)\n",
    "\n"
   ]
  },
  {
   "cell_type": "code",
   "execution_count": 26,
   "metadata": {
    "execution": {
     "iopub.execute_input": "2021-07-23T19:06:24.291249Z",
     "iopub.status.busy": "2021-07-23T19:06:24.290869Z",
     "iopub.status.idle": "2021-07-23T19:06:25.482430Z",
     "shell.execute_reply": "2021-07-23T19:06:25.480315Z",
     "shell.execute_reply.started": "2021-07-23T19:06:24.291218Z"
    }
   },
   "outputs": [],
   "source": [
    "import statsmodels.api as sm\n",
    "X_train_sm = sm.add_constant(X_train)"
   ]
  },
  {
   "cell_type": "code",
   "execution_count": 27,
   "metadata": {
    "execution": {
     "iopub.execute_input": "2021-07-23T19:06:28.274684Z",
     "iopub.status.busy": "2021-07-23T19:06:28.274284Z",
     "iopub.status.idle": "2021-07-23T19:06:28.524833Z",
     "shell.execute_reply": "2021-07-23T19:06:28.523889Z",
     "shell.execute_reply.started": "2021-07-23T19:06:28.274652Z"
    }
   },
   "outputs": [
    {
     "name": "stdout",
     "output_type": "stream",
     "text": [
      "Optimization terminated successfully.\n",
      "         Current function value: 0.329271\n",
      "         Iterations 8\n",
      "                           Logit Regression Results                           \n",
      "==============================================================================\n",
      "Dep. Variable:               purchase   No. Observations:                  410\n",
      "Model:                          Logit   Df Residuals:                      406\n",
      "Method:                           MLE   Df Model:                            3\n",
      "Date:                Fri, 23 Jul 2021   Pseudo R-squ.:                  0.5250\n",
      "Time:                        19:06:28   Log-Likelihood:                -135.00\n",
      "converged:                       True   LL-Null:                       -284.19\n",
      "Covariance Type:            nonrobust   LLR p-value:                 2.232e-64\n",
      "==============================================================================\n",
      "                 coef    std err          z      P>|z|      [0.025      0.975]\n",
      "------------------------------------------------------------------------------\n",
      "const          0.0362      0.153      0.237      0.813      -0.263       0.336\n",
      "age            2.9962      0.332      9.013      0.000       2.345       3.648\n",
      "income         1.6121      0.214      7.545      0.000       1.193       2.031\n",
      "sex_Male       0.1561      0.153      1.019      0.308      -0.144       0.456\n",
      "==============================================================================\n"
     ]
    }
   ],
   "source": [
    "# To get an idea of the regression equation we can use:\n",
    "import statsmodels.api as sm\n",
    "logit_model=sm.Logit(y_train,X_train_sm)\n",
    "result=logit_model.fit()\n",
    "print(result.summary())"
   ]
  },
  {
   "cell_type": "markdown",
   "metadata": {},
   "source": [
    "Using Stats models we will look at each model's summary report, given that sklearn.logisticregression does not have this functionality, to assess each model's score, sklearn will be used afterwards:\n",
    "\n",
    "The different models are as follows:\n",
    "- Model1 = normal model with all predictors\n",
    "- Model2 = model with 'Sex' predictor dropped (model = Income + age)\n",
    "- Model3 = model with 'age' dropped (model = Income + sex)\n",
    "- Model4 = model with 'income' dropped (model = age + sex)\n",
    "- Model5 = model with only 'income'\n",
    "- Model6 = model with only 'age'\n",
    "- Model7 = model with only \"sex\"\n"
   ]
  },
  {
   "cell_type": "code",
   "execution_count": 28,
   "metadata": {
    "execution": {
     "iopub.execute_input": "2021-07-23T19:09:23.372305Z",
     "iopub.status.busy": "2021-07-23T19:09:23.371874Z",
     "iopub.status.idle": "2021-07-23T19:09:23.397163Z",
     "shell.execute_reply": "2021-07-23T19:09:23.396401Z",
     "shell.execute_reply.started": "2021-07-23T19:09:23.372272Z"
    }
   },
   "outputs": [
    {
     "name": "stdout",
     "output_type": "stream",
     "text": [
      "Optimization terminated successfully.\n",
      "         Current function value: 0.330549\n",
      "         Iterations 8\n",
      "                           Logit Regression Results                           \n",
      "==============================================================================\n",
      "Dep. Variable:               purchase   No. Observations:                  410\n",
      "Model:                          Logit   Df Residuals:                      407\n",
      "Method:                           MLE   Df Model:                            2\n",
      "Date:                Fri, 23 Jul 2021   Pseudo R-squ.:                  0.5231\n",
      "Time:                        19:09:23   Log-Likelihood:                -135.53\n",
      "converged:                       True   LL-Null:                       -284.19\n",
      "Covariance Type:            nonrobust   LLR p-value:                 2.726e-65\n",
      "==============================================================================\n",
      "                 coef    std err          z      P>|z|      [0.025      0.975]\n",
      "------------------------------------------------------------------------------\n",
      "const          0.0463      0.152      0.304      0.761      -0.252       0.344\n",
      "age            2.9564      0.327      9.035      0.000       2.315       3.598\n",
      "income         1.5868      0.211      7.510      0.000       1.173       2.001\n",
      "==============================================================================\n"
     ]
    }
   ],
   "source": [
    "# The following is essentially stating again each of our models and the columns that need to be dropped for them (restating them because of the need for the \n",
    "# coefficient to be added for stats models Log reg)\n",
    "X_train2_sm = X_train_sm.drop(['sex_Male'], axis=1)\n",
    "logit_model2=sm.Logit(y_train,X_train2_sm)\n",
    "result2=logit_model2.fit()\n",
    "print(result2.summary())"
   ]
  },
  {
   "cell_type": "code",
   "execution_count": 29,
   "metadata": {
    "execution": {
     "iopub.execute_input": "2021-07-23T19:09:26.704599Z",
     "iopub.status.busy": "2021-07-23T19:09:26.704238Z",
     "iopub.status.idle": "2021-07-23T19:09:26.727571Z",
     "shell.execute_reply": "2021-07-23T19:09:26.726566Z",
     "shell.execute_reply.started": "2021-07-23T19:09:26.704569Z"
    }
   },
   "outputs": [
    {
     "name": "stdout",
     "output_type": "stream",
     "text": [
      "Optimization terminated successfully.\n",
      "         Current function value: 0.611300\n",
      "         Iterations 5\n",
      "                           Logit Regression Results                           \n",
      "==============================================================================\n",
      "Dep. Variable:               purchase   No. Observations:                  410\n",
      "Model:                          Logit   Df Residuals:                      407\n",
      "Method:                           MLE   Df Model:                            2\n",
      "Date:                Fri, 23 Jul 2021   Pseudo R-squ.:                  0.1181\n",
      "Time:                        19:09:26   Log-Likelihood:                -250.63\n",
      "converged:                       True   LL-Null:                       -284.19\n",
      "Covariance Type:            nonrobust   LLR p-value:                 2.669e-15\n",
      "==============================================================================\n",
      "                 coef    std err          z      P>|z|      [0.025      0.975]\n",
      "------------------------------------------------------------------------------\n",
      "const          0.0184      0.108      0.171      0.864      -0.192       0.229\n",
      "income         0.8823      0.121      7.309      0.000       0.646       1.119\n",
      "sex_Male      -0.0916      0.107     -0.853      0.394      -0.302       0.119\n",
      "==============================================================================\n"
     ]
    }
   ],
   "source": [
    "# 2.5: \n",
    "X_train3_sm = X_train_sm.drop(['age'], axis=1)\n",
    "logit_model3=sm.Logit(y_train,X_train3_sm)\n",
    "result3=logit_model3.fit()\n",
    "print(result3.summary())\n",
    "\n",
    "# Without even checking the scores of this, we can see with a Pseudo R-square  of 0.07 that this model will probably not score well. "
   ]
  },
  {
   "cell_type": "code",
   "execution_count": 30,
   "metadata": {
    "execution": {
     "iopub.execute_input": "2021-07-23T19:09:30.193001Z",
     "iopub.status.busy": "2021-07-23T19:09:30.192631Z",
     "iopub.status.idle": "2021-07-23T19:09:30.218351Z",
     "shell.execute_reply": "2021-07-23T19:09:30.216216Z",
     "shell.execute_reply.started": "2021-07-23T19:09:30.192975Z"
    }
   },
   "outputs": [
    {
     "name": "stdout",
     "output_type": "stream",
     "text": [
      "Optimization terminated successfully.\n",
      "         Current function value: 0.438715\n",
      "         Iterations 7\n",
      "                           Logit Regression Results                           \n",
      "==============================================================================\n",
      "Dep. Variable:               purchase   No. Observations:                  410\n",
      "Model:                          Logit   Df Residuals:                      407\n",
      "Method:                           MLE   Df Model:                            2\n",
      "Date:                Fri, 23 Jul 2021   Pseudo R-squ.:                  0.3671\n",
      "Time:                        19:09:30   Log-Likelihood:                -179.87\n",
      "converged:                       True   LL-Null:                       -284.19\n",
      "Covariance Type:            nonrobust   LLR p-value:                 4.962e-46\n",
      "==============================================================================\n",
      "                 coef    std err          z      P>|z|      [0.025      0.975]\n",
      "------------------------------------------------------------------------------\n",
      "const          0.0433      0.131      0.330      0.742      -0.214       0.301\n",
      "age            2.0697      0.204     10.152      0.000       1.670       2.469\n",
      "sex_Male      -0.0405      0.131     -0.310      0.756      -0.296       0.215\n",
      "==============================================================================\n"
     ]
    }
   ],
   "source": [
    "# 2.5: \n",
    "X_train4_sm = X_train_sm.drop(['income'], axis=1)\n",
    "logit_model4=sm.Logit(y_train,X_train4_sm)\n",
    "result4=logit_model4.fit()\n",
    "print(result4.summary())"
   ]
  },
  {
   "cell_type": "code",
   "execution_count": 31,
   "metadata": {
    "execution": {
     "iopub.execute_input": "2021-07-23T19:09:33.083742Z",
     "iopub.status.busy": "2021-07-23T19:09:33.083355Z",
     "iopub.status.idle": "2021-07-23T19:09:33.108213Z",
     "shell.execute_reply": "2021-07-23T19:09:33.106305Z",
     "shell.execute_reply.started": "2021-07-23T19:09:33.083710Z"
    }
   },
   "outputs": [
    {
     "name": "stdout",
     "output_type": "stream",
     "text": [
      "Optimization terminated successfully.\n",
      "         Current function value: 0.612188\n",
      "         Iterations 5\n",
      "                           Logit Regression Results                           \n",
      "==============================================================================\n",
      "Dep. Variable:               purchase   No. Observations:                  410\n",
      "Model:                          Logit   Df Residuals:                      408\n",
      "Method:                           MLE   Df Model:                            1\n",
      "Date:                Fri, 23 Jul 2021   Pseudo R-squ.:                  0.1168\n",
      "Time:                        19:09:33   Log-Likelihood:                -251.00\n",
      "converged:                       True   LL-Null:                       -284.19\n",
      "Covariance Type:            nonrobust   LLR p-value:                 3.706e-16\n",
      "==============================================================================\n",
      "                 coef    std err          z      P>|z|      [0.025      0.975]\n",
      "------------------------------------------------------------------------------\n",
      "const          0.0166      0.107      0.154      0.877      -0.194       0.227\n",
      "income         0.8888      0.120      7.390      0.000       0.653       1.124\n",
      "==============================================================================\n"
     ]
    }
   ],
   "source": [
    "# X_train5_sm = model with only 'income':\n",
    "X_train5_sm = X_train_sm.drop(['sex_Male', 'age'], axis=1)\n",
    "logit_model5=sm.Logit(y_train, X_train5_sm)\n",
    "result5=logit_model5.fit()\n",
    "print(result5.summary())"
   ]
  },
  {
   "cell_type": "code",
   "execution_count": 32,
   "metadata": {
    "execution": {
     "iopub.execute_input": "2021-07-23T19:09:36.124259Z",
     "iopub.status.busy": "2021-07-23T19:09:36.123854Z",
     "iopub.status.idle": "2021-07-23T19:09:36.145229Z",
     "shell.execute_reply": "2021-07-23T19:09:36.143925Z",
     "shell.execute_reply.started": "2021-07-23T19:09:36.124228Z"
    }
   },
   "outputs": [
    {
     "name": "stdout",
     "output_type": "stream",
     "text": [
      "Optimization terminated successfully.\n",
      "         Current function value: 0.438833\n",
      "         Iterations 7\n",
      "                           Logit Regression Results                           \n",
      "==============================================================================\n",
      "Dep. Variable:               purchase   No. Observations:                  410\n",
      "Model:                          Logit   Df Residuals:                      408\n",
      "Method:                           MLE   Df Model:                            1\n",
      "Date:                Fri, 23 Jul 2021   Pseudo R-squ.:                  0.3669\n",
      "Time:                        19:09:36   Log-Likelihood:                -179.92\n",
      "converged:                       True   LL-Null:                       -284.19\n",
      "Covariance Type:            nonrobust   LLR p-value:                 2.863e-47\n",
      "==============================================================================\n",
      "                 coef    std err          z      P>|z|      [0.025      0.975]\n",
      "------------------------------------------------------------------------------\n",
      "const          0.0415      0.131      0.316      0.752      -0.216       0.299\n",
      "age            2.0736      0.204     10.187      0.000       1.675       2.473\n",
      "==============================================================================\n"
     ]
    }
   ],
   "source": [
    "# X_train6_sm = model with only 'age':\n",
    "X_train6_sm = X_train_sm.drop(['sex_Male', 'income'], axis=1)\n",
    "logit_model6=sm.Logit(y_train, X_train6_sm)\n",
    "result6=logit_model6.fit()\n",
    "print(result6.summary())"
   ]
  },
  {
   "cell_type": "code",
   "execution_count": 33,
   "metadata": {
    "execution": {
     "iopub.execute_input": "2021-07-23T19:09:38.594301Z",
     "iopub.status.busy": "2021-07-23T19:09:38.593820Z",
     "iopub.status.idle": "2021-07-23T19:09:38.608956Z",
     "shell.execute_reply": "2021-07-23T19:09:38.608325Z",
     "shell.execute_reply.started": "2021-07-23T19:09:38.594274Z"
    }
   },
   "outputs": [
    {
     "name": "stdout",
     "output_type": "stream",
     "text": [
      "Optimization terminated successfully.\n",
      "         Current function value: 0.690072\n",
      "         Iterations 3\n",
      "                           Logit Regression Results                           \n",
      "==============================================================================\n",
      "Dep. Variable:               purchase   No. Observations:                  410\n",
      "Model:                          Logit   Df Residuals:                      408\n",
      "Method:                           MLE   Df Model:                            1\n",
      "Date:                Fri, 23 Jul 2021   Pseudo R-squ.:                0.004437\n",
      "Time:                        19:09:38   Log-Likelihood:                -282.93\n",
      "converged:                       True   LL-Null:                       -284.19\n",
      "Covariance Type:            nonrobust   LLR p-value:                    0.1123\n",
      "==============================================================================\n",
      "                 coef    std err          z      P>|z|      [0.025      0.975]\n",
      "------------------------------------------------------------------------------\n",
      "const      -6.023e-05      0.099     -0.001      1.000      -0.194       0.194\n",
      "sex_Male      -0.1571      0.099     -1.586      0.113      -0.351       0.037\n",
      "==============================================================================\n"
     ]
    }
   ],
   "source": [
    "# X_train7_sm = model with only \"sex\":\n",
    "X_train7_sm = X_train_sm.drop(['income', 'age'], axis=1)\n",
    "logit_model7=sm.Logit(y_train, X_train7_sm)\n",
    "result7=logit_model7.fit()\n",
    "print(result7.summary())"
   ]
  },
  {
   "cell_type": "code",
   "execution_count": 41,
   "metadata": {
    "execution": {
     "iopub.execute_input": "2021-07-23T19:15:53.611414Z",
     "iopub.status.busy": "2021-07-23T19:15:53.611040Z",
     "iopub.status.idle": "2021-07-23T19:15:53.708082Z",
     "shell.execute_reply": "2021-07-23T19:15:53.706725Z",
     "shell.execute_reply.started": "2021-07-23T19:15:53.611383Z"
    }
   },
   "outputs": [
    {
     "name": "stdout",
     "output_type": "stream",
     "text": [
      "Model with all predictors:  0.8585365853658536\n",
      "Model without Sex:  0.8536585365853658\n",
      "Model without Age:  0.5\n",
      "Model without income:  0.7731707317073171\n",
      "Model with Only income:  0.5\n",
      "Model with only Age :  0.7634146341463415\n",
      "Model with only Sex:  0.5390243902439025\n"
     ]
    }
   ],
   "source": [
    "from sklearn.linear_model import LogisticRegression\n",
    "myLog1 = LogisticRegression()\n",
    "myLog1.fit(X_train, y_train)\n",
    "\n",
    "myLog2 = LogisticRegression()\n",
    "myLog2.fit(X_train2,y_train)\n",
    "\n",
    "myLog3 = LogisticRegression()\n",
    "myLog3.fit(X_train3, y_train)\n",
    "\n",
    "myLog4 = LogisticRegression()\n",
    "myLog4.fit(X_train4, y_train)\n",
    "\n",
    "myLog5 = LogisticRegression()\n",
    "myLog5.fit(X_train5, y_train)\n",
    "\n",
    "myLog6 = LogisticRegression()\n",
    "myLog6.fit(X_train6, y_train)\n",
    "\n",
    "myLog7 = LogisticRegression()\n",
    "myLog7.fit(X_train7, y_train)\n",
    "\n",
    "print(\"Model with all predictors: \", myLog1.score(X_train,y_train))\n",
    "print(\"Model without Sex: \", myLog2.score(X_train2,y_train))\n",
    "print(\"Model without Age: \", myLog3.score(X_train3, y_train))\n",
    "print(\"Model without income: \", myLog4.score(X_train4, y_train))\n",
    "print(\"Model with Only income: \", myLog5.score(X_train5, y_train))\n",
    "print(\"Model with only Age : \", myLog6.score(X_train6, y_train))\n",
    "print(\"Model with only Sex: \", myLog7.score(X_train7, y_train))"
   ]
  },
  {
   "cell_type": "markdown",
   "metadata": {},
   "source": [
    "With the above, it makes sense to build the model going forward without sex included as it is clearly not significant (both in terms of p-value as well as to the actual score/accuracy to the model). Therefore moving forward the X_train set will include only the income and age predictors. "
   ]
  },
  {
   "cell_type": "markdown",
   "metadata": {},
   "source": [
    "From the above, we the optimal regularization parameter is at a point where Test accuracies are still below Train Accuracies, any point after that and we run into potential problems of overfitness as lower C-values typically leads to lower accuracy scores but less of a risk of overfitting. Due to this dataset being quite short, overfitting could be a potential risk (as our X_train that our data is training on, is only 410 rows long; less data points = each data point is more meaningful as interpreted by the model). Therefore makes sense to use a conservative C-value for the regularization of 10**-2 or 0.01."
   ]
  },
  {
   "cell_type": "markdown",
   "metadata": {},
   "source": [
    "Although we could try dropping other features and keeping sex in the model, but given the other two features (age and income) have p-values that are essentially zero. So it probably doesnt make sense to try models with fewer features. "
   ]
  },
  {
   "cell_type": "code",
   "execution_count": 47,
   "metadata": {
    "execution": {
     "iopub.execute_input": "2021-07-23T19:20:10.046224Z",
     "iopub.status.busy": "2021-07-23T19:20:10.045656Z",
     "iopub.status.idle": "2021-07-23T19:20:10.052728Z",
     "shell.execute_reply": "2021-07-23T19:20:10.051949Z",
     "shell.execute_reply.started": "2021-07-23T19:20:10.046192Z"
    }
   },
   "outputs": [],
   "source": [
    "# Model 1:\n",
    "y_pred_train1 = myLog1.predict(X_train)\n",
    "y_pred = myLog1.predict(X_test)"
   ]
  },
  {
   "cell_type": "code",
   "execution_count": 42,
   "metadata": {
    "execution": {
     "iopub.execute_input": "2021-07-23T19:16:05.055298Z",
     "iopub.status.busy": "2021-07-23T19:16:05.054846Z",
     "iopub.status.idle": "2021-07-23T19:16:05.078865Z",
     "shell.execute_reply": "2021-07-23T19:16:05.078075Z",
     "shell.execute_reply.started": "2021-07-23T19:16:05.055272Z"
    }
   },
   "outputs": [],
   "source": [
    "# Model 2:\n",
    "y_pred_train2 = myLog2.predict(X_train2)\n",
    "y_pred2 = myLog2.predict(X_test2)\n",
    "# Model 3: \n",
    "y_pred_train3 = myLog3.predict(X_train3)\n",
    "y_pred3 = myLog3.predict(X_test3)\n",
    "# Model 4: \n",
    "y_pred_train4 = myLog4.predict(X_train4)\n",
    "y_pred4 = myLog4.predict(X_test4)\n",
    "# Model 5: \n",
    "y_pred_train5 = myLog5.predict(X_train5)\n",
    "y_pred5 = myLog5.predict(X_test5)\n",
    "# Model 6: \n",
    "y_pred_train6 = myLog6.predict(X_train6)\n",
    "y_pred6 = myLog6.predict(X_test6)\n",
    "#Model 7: \n",
    "y_pred_train7 = myLog7.predict(X_train7)\n",
    "y_pred7 = myLog7.predict(X_test7)"
   ]
  },
  {
   "cell_type": "code",
   "execution_count": null,
   "metadata": {
    "execution": {
     "iopub.status.busy": "2021-07-21T19:04:29.791419Z",
     "iopub.status.idle": "2021-07-21T19:04:29.792041Z"
    }
   },
   "outputs": [],
   "source": [
    "y_pred_train"
   ]
  },
  {
   "cell_type": "code",
   "execution_count": null,
   "metadata": {
    "execution": {
     "iopub.status.busy": "2021-07-21T19:04:29.793629Z",
     "iopub.status.idle": "2021-07-21T19:04:29.794262Z"
    }
   },
   "outputs": [],
   "source": [
    "y_pred_test"
   ]
  },
  {
   "cell_type": "markdown",
   "metadata": {},
   "source": [
    "From the above, we the optimal regularization parameter is at a point where Test accuracies are still below Train Accuracies, any point after that and we run into potential problems of overfitness as lower C-values typically leads to lower accuracy scores but less of a risk of overfitting. Due to this dataset being quite short, overfitting could be a potential risk (as our X_train that our data is training on, is only 410 rows long; less data points = each data point is more meaningful as interpreted by the model). Therefore makes sense to use a conservative C-value for the regularization of 10**-2 or 0.01."
   ]
  },
  {
   "cell_type": "code",
   "execution_count": null,
   "metadata": {},
   "outputs": [],
   "source": []
  },
  {
   "cell_type": "markdown",
   "metadata": {},
   "source": [
    "- Model1 = normal model with all predictors\n",
    "- Model2 = model with 'Sex' predictor dropped (model = Income + age)\n",
    "- Model3 = model with 'age' dropped (model = Income + sex)\n",
    "- Model4 = model with 'income' dropped (model = age + sex)\n",
    "- Model5 = model with only 'income'\n",
    "- Model6 = model with only 'age'\n",
    "- Model7 = model with only \"sex\""
   ]
  },
  {
   "cell_type": "code",
   "execution_count": 49,
   "metadata": {
    "execution": {
     "iopub.execute_input": "2021-07-23T19:20:37.575554Z",
     "iopub.status.busy": "2021-07-23T19:20:37.575143Z",
     "iopub.status.idle": "2021-07-23T19:20:37.601326Z",
     "shell.execute_reply": "2021-07-23T19:20:37.599881Z",
     "shell.execute_reply.started": "2021-07-23T19:20:37.575512Z"
    }
   },
   "outputs": [
    {
     "name": "stdout",
     "output_type": "stream",
     "text": [
      "Model 1: All Predictors\n",
      "[[57  9]\n",
      " [ 5 39]]\n",
      "Model 2: Income + Age\n",
      "[[56 10]\n",
      " [ 6 38]]\n",
      "Model 3: Income + Sex\n",
      "[[ 0 66]\n",
      " [ 0 44]]\n",
      "Model 4: Age + Sex\n",
      "[[53 13]\n",
      " [13 31]]\n",
      "Model 5: Income\n",
      "[[ 0 66]\n",
      " [ 0 44]]\n",
      "Model 6: Age\n",
      "[[50 16]\n",
      " [12 32]]\n",
      "Model 7: Sex\n",
      "[[34 32]\n",
      " [24 20]]\n"
     ]
    }
   ],
   "source": [
    "from sklearn.metrics import confusion_matrix\n",
    "print(\"Model 1: All Predictors\")\n",
    "print(confusion_matrix(y_test, y_pred))\n",
    "print(\"Model 2: Income + Age\")\n",
    "print(confusion_matrix(y_test, y_pred2))\n",
    "print(\"Model 3: Income + Sex\")\n",
    "print(confusion_matrix(y_test, y_pred3))\n",
    "print(\"Model 4: Age + Sex\")\n",
    "print(confusion_matrix(y_test, y_pred4))\n",
    "print(\"Model 5: Income\")\n",
    "print(confusion_matrix(y_test, y_pred5))\n",
    "print(\"Model 6: Age\")\n",
    "print(confusion_matrix(y_test, y_pred6))\n",
    "print(\"Model 7: Sex\")\n",
    "print(confusion_matrix(y_test, y_pred7))"
   ]
  },
  {
   "cell_type": "markdown",
   "metadata": {},
   "source": [
    "The Best Model (All Predictors):\n",
    "\n",
    "|     |  Predicted 0  |   Predicted 1 | True Totals |\n",
    "| --------- |:---:|:---:|:---:|\n",
    "|True 0|57 | 9 | 66 |\n",
    "|True 1|5|39 | 44 |\n",
    "|Predicted Totals| 62 | 48 | 110 |"
   ]
  },
  {
   "cell_type": "code",
   "execution_count": 51,
   "metadata": {
    "execution": {
     "iopub.execute_input": "2021-07-23T19:22:53.060334Z",
     "iopub.status.busy": "2021-07-23T19:22:53.059889Z",
     "iopub.status.idle": "2021-07-23T19:22:53.118386Z",
     "shell.execute_reply": "2021-07-23T19:22:53.116912Z",
     "shell.execute_reply.started": "2021-07-23T19:22:53.060300Z"
    }
   },
   "outputs": [
    {
     "name": "stdout",
     "output_type": "stream",
     "text": [
      "Model 1: All Predictors\n",
      "              precision    recall  f1-score   support\n",
      "\n",
      "         0.0       0.92      0.86      0.89        66\n",
      "         1.0       0.81      0.89      0.85        44\n",
      "\n",
      "    accuracy                           0.87       110\n",
      "   macro avg       0.87      0.88      0.87       110\n",
      "weighted avg       0.88      0.87      0.87       110\n",
      "\n",
      "Model 2\n",
      "              precision    recall  f1-score   support\n",
      "\n",
      "         0.0       0.90      0.85      0.88        66\n",
      "         1.0       0.79      0.86      0.83        44\n",
      "\n",
      "    accuracy                           0.85       110\n",
      "   macro avg       0.85      0.86      0.85       110\n",
      "weighted avg       0.86      0.85      0.86       110\n",
      "\n",
      "Model 3\n",
      "              precision    recall  f1-score   support\n",
      "\n",
      "         0.0       0.00      0.00      0.00        66\n",
      "         1.0       0.40      1.00      0.57        44\n",
      "\n",
      "    accuracy                           0.40       110\n",
      "   macro avg       0.20      0.50      0.29       110\n",
      "weighted avg       0.16      0.40      0.23       110\n",
      "\n",
      "Model 4\n",
      "              precision    recall  f1-score   support\n",
      "\n",
      "         0.0       0.80      0.80      0.80        66\n",
      "         1.0       0.70      0.70      0.70        44\n",
      "\n",
      "    accuracy                           0.76       110\n",
      "   macro avg       0.75      0.75      0.75       110\n",
      "weighted avg       0.76      0.76      0.76       110\n",
      "\n",
      "Model 5\n",
      "              precision    recall  f1-score   support\n",
      "\n",
      "         0.0       0.00      0.00      0.00        66\n",
      "         1.0       0.40      1.00      0.57        44\n",
      "\n",
      "    accuracy                           0.40       110\n",
      "   macro avg       0.20      0.50      0.29       110\n",
      "weighted avg       0.16      0.40      0.23       110\n",
      "\n",
      "Model 6\n",
      "              precision    recall  f1-score   support\n",
      "\n",
      "         0.0       0.81      0.76      0.78        66\n",
      "         1.0       0.67      0.73      0.70        44\n",
      "\n",
      "    accuracy                           0.75       110\n",
      "   macro avg       0.74      0.74      0.74       110\n",
      "weighted avg       0.75      0.75      0.75       110\n",
      "\n",
      "Model 7\n",
      "              precision    recall  f1-score   support\n",
      "\n",
      "         0.0       0.59      0.52      0.55        66\n",
      "         1.0       0.38      0.45      0.42        44\n",
      "\n",
      "    accuracy                           0.49       110\n",
      "   macro avg       0.49      0.48      0.48       110\n",
      "weighted avg       0.51      0.49      0.50       110\n",
      "\n"
     ]
    },
    {
     "name": "stderr",
     "output_type": "stream",
     "text": [
      "/opt/conda/lib/python3.7/site-packages/sklearn/metrics/_classification.py:1221: UndefinedMetricWarning: Precision and F-score are ill-defined and being set to 0.0 in labels with no predicted samples. Use `zero_division` parameter to control this behavior.\n",
      "  _warn_prf(average, modifier, msg_start, len(result))\n"
     ]
    }
   ],
   "source": [
    "from sklearn.metrics import classification_report\n",
    "print(\"Model 1: All Predictors\")\n",
    "print(classification_report(y_test, y_pred))\n",
    "print(\"Model 2\")\n",
    "print(classification_report(y_test, y_pred2))\n",
    "print(\"Model 3\")\n",
    "print(classification_report(y_test, y_pred3))\n",
    "print(\"Model 4\")\n",
    "print(classification_report(y_test, y_pred4))\n",
    "print(\"Model 5\")\n",
    "print(classification_report(y_test, y_pred5))\n",
    "print(\"Model 6\")\n",
    "print(classification_report(y_test, y_pred6))\n",
    "print(\"Model 7\")\n",
    "print(classification_report(y_test, y_pred7))"
   ]
  },
  {
   "cell_type": "code",
   "execution_count": 53,
   "metadata": {
    "execution": {
     "iopub.execute_input": "2021-07-23T19:24:56.048501Z",
     "iopub.status.busy": "2021-07-23T19:24:56.048142Z",
     "iopub.status.idle": "2021-07-23T19:25:00.154788Z",
     "shell.execute_reply": "2021-07-23T19:25:00.153617Z",
     "shell.execute_reply.started": "2021-07-23T19:24:56.048471Z"
    }
   },
   "outputs": [
    {
     "data": {
      "image/png": "[encoded data removed]",
      "text/plain": [
       "<Figure size 432x288 with 1 Axes>"
      ]
     },
     "metadata": {
      "needs_background": "light"
     },
     "output_type": "display_data"
    }
   ],
   "source": [
    "# Given that we now have the optimal model decided:\n",
    "# fit the model and optimize C parameter:\n",
    "# Now let's find the optimal C value for our logistic regression model:\n",
    "C_range = np.array([0.00001, 0.0001, 0.001, 0.01,0.1,1,10,100,1000, 10000])\n",
    "test_scores=[]\n",
    "train_scores=[]\n",
    "# For loop going through different possible regularization parameters. The lower the value the more regularization,\n",
    "# given that C is the inverse of regularization. \n",
    "for c in C_range:\n",
    "    # Instantiate and fit a Logistic Regression model to the data. Solver set to 'lbfgs'. n_jobs=-1 in order to \n",
    "    # improve processing speeds. \n",
    "    myLog= LogisticRegression(C=c, solver='lbfgs', n_jobs=-1, random_state=1)\n",
    "    myLog.fit(X_train,y_train)\n",
    "    \n",
    "    # append results to score lists for plotting: \n",
    "    train_scores.append(myLog.score(X_train,y_train))\n",
    "    test_scores.append(myLog.score(X_test,y_test))\n",
    "\n",
    "    \n",
    "plt.figure()\n",
    "plt.plot(C_range, train_scores, label='Train accuracies', marker='.')\n",
    "plt.plot(C_range, test_scores, label=\"Test Accuracies\",marker='.')\n",
    "plt.legend()\n",
    "plt.xscale(\"log\")\n",
    "plt.xlabel('Regularization Parameter: C')\n",
    "plt.ylabel('Accuracy Score')\n",
    "plt.title('Optimal Regularization Parameter for LogReg')\n",
    "plt.grid()\n",
    "plt.show();"
   ]
  },
  {
   "cell_type": "code",
   "execution_count": 55,
   "metadata": {
    "execution": {
     "iopub.execute_input": "2021-07-23T19:27:26.281829Z",
     "iopub.status.busy": "2021-07-23T19:27:26.281338Z",
     "iopub.status.idle": "2021-07-23T19:27:26.305557Z",
     "shell.execute_reply": "2021-07-23T19:27:26.303941Z",
     "shell.execute_reply.started": "2021-07-23T19:27:26.281785Z"
    }
   },
   "outputs": [
    {
     "name": "stdout",
     "output_type": "stream",
     "text": [
      "Scores: \n",
      "Accuracy score:  0.8272727272727273\n",
      "Recall score:  0.7954545454545454\n",
      "Precision Score:  0.7777777777777778\n"
     ]
    }
   ],
   "source": [
    "# Based off ML/Data Science, the optimal model (with all 3 features and a C parameter of 10^-2)\n",
    "myLogFinal = LogisticRegression(C=0.01)\n",
    "myLogFinal.fit(X_train,y_train) \n",
    "\n",
    "from sklearn.metrics import accuracy_score\n",
    "from sklearn.metrics import recall_score\n",
    "from sklearn.metrics import precision_score\n",
    "y_pred = myLogFinal.predict(X_test)\n",
    "\n",
    "print(\"Scores: \")\n",
    "print(\"Accuracy score: \", accuracy_score(y_test,y_pred))\n",
    "print(\"Recall score: \", recall_score(y_test, y_pred))\n",
    "print(\"Precision Score: \", precision_score(y_test, y_pred))\n"
   ]
  },
  {
   "cell_type": "code",
   "execution_count": 57,
   "metadata": {
    "execution": {
     "iopub.execute_input": "2021-07-23T19:28:04.985263Z",
     "iopub.status.busy": "2021-07-23T19:28:04.984831Z",
     "iopub.status.idle": "2021-07-23T19:28:05.056316Z",
     "shell.execute_reply": "2021-07-23T19:28:05.054948Z",
     "shell.execute_reply.started": "2021-07-23T19:28:04.985221Z"
    }
   },
   "outputs": [
    {
     "data": {
      "text/plain": [
       "0.8317073170731707"
      ]
     },
     "execution_count": 57,
     "metadata": {},
     "output_type": "execute_result"
    }
   ],
   "source": [
    "from sklearn.model_selection import cross_val_score\n",
    "myLogcvFinal = LogisticRegression(C=0.01, solver='lbfgs', random_state=1)\n",
    "cv_score = np.mean(cross_val_score(myLogcvFinal, X_train, y_train, cv=5))\n",
    "cv_score"
   ]
  },
  {
   "cell_type": "code",
   "execution_count": 58,
   "metadata": {
    "execution": {
     "iopub.execute_input": "2021-07-23T19:28:09.609162Z",
     "iopub.status.busy": "2021-07-23T19:28:09.608828Z",
     "iopub.status.idle": "2021-07-23T19:28:09.776472Z",
     "shell.execute_reply": "2021-07-23T19:28:09.773840Z",
     "shell.execute_reply.started": "2021-07-23T19:28:09.609136Z"
    }
   },
   "outputs": [
    {
     "data": {
      "image/png": "[encoded data removed]",
      "text/plain": [
       "<Figure size 432x288 with 1 Axes>"
      ]
     },
     "metadata": {
      "needs_background": "light"
     },
     "output_type": "display_data"
    },
    {
     "name": "stdout",
     "output_type": "stream",
     "text": [
      "Test AUC score: 0.9273415977961433\n",
      "Train AUC score: 0.9362046400951815\n"
     ]
    }
   ],
   "source": [
    "y_proba = myLog.predict_proba(X_test)[:,1]\n",
    "from sklearn.metrics import roc_curve, roc_auc_score\n",
    "\n",
    "fprs, tprs, thresholds = roc_curve(y_test, y_proba)\n",
    "roc_auc = roc_auc_score(y_test, y_proba)\n",
    "\n",
    "#Get the probability for each point in the train set.\n",
    "y_proba_train = myLog.predict_proba(X_train)[:,1]\n",
    "\n",
    "# Compute ROC curve and AUC for for the one class\n",
    "fprs_train, tprs_train, thresholds_train = roc_curve(y_train, y_proba_train)\n",
    "roc_auc_train = roc_auc_score(y_train, y_proba_train)\n",
    "  \n",
    "# Plot the ROC curve.\n",
    "plt.figure()\n",
    "plt.plot(fprs_train, tprs_train, color='darkorange', lw=2, label='train')\n",
    "plt.plot(fprs, tprs, lw=2, label='test')\n",
    "plt.plot([0, 1], [0, 1], color='navy', lw=2, linestyle='--')\n",
    "plt.xlabel('False Positive Rate')\n",
    "plt.ylabel('True Positive Rate')\n",
    "plt.title('ROC and AUC for LogReg Model')\n",
    "plt.legend(loc=\"best\")\n",
    "plt.show()\n",
    "print(f\"Test AUC score: {roc_auc}\")\n",
    "print(f\"Train AUC score: {roc_auc_train}\")"
   ]
  }
 ],
 "metadata": {
  "kernelspec": {
   "display_name": "Python 3",
   "language": "python",
   "name": "python3"
  },
  "language_info": {
   "codemirror_mode": {
    "name": "ipython",
    "version": 3
   },
   "file_extension": ".py",
   "mimetype": "text/x-python",
   "name": "python",
   "nbconvert_exporter": "python",
   "pygments_lexer": "ipython3",
   "version": "3.9.5"
  }
 },
 "nbformat": 4,
 "nbformat_minor": 4
}
