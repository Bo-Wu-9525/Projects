{
 "cells": [
  {
   "cell_type": "code",
   "execution_count": 27,
   "id": "c0a68313-e46b-4784-ba18-a36b84094a3c",
   "metadata": {},
   "outputs": [],
   "source": [
    "import pandas as pd\n",
    "import numpy as np\n",
    "\n",
    "from sklearn.model_selection import train_test_split\n",
    "from sklearn.feature_extraction.text import CountVectorizer\n",
    "from sklearn.feature_extraction.text import TfidfTransformer\n",
    "from sklearn.pipeline import Pipeline\n",
    "from sklearn.linear_model import SGDClassifier\n",
    "from sklearn import metrics\n",
    "from sklearn.model_selection import GridSearchCV\n",
    "\n",
    "\n",
    "data = pd.read_csv('reviews.csv', delimiter='\\t')"
   ]
  },
  {
   "cell_type": "code",
   "execution_count": 28,
   "id": "90aec4c8-871a-4ad4-9da9-d19738d8dee9",
   "metadata": {},
   "outputs": [
    {
     "data": {
      "text/plain": [
       "5    828\n",
       "4    637\n",
       "3    297\n",
       "2     86\n",
       "1     72\n",
       "Name: RatingValue, dtype: int64"
      ]
     },
     "execution_count": 28,
     "metadata": {},
     "output_type": "execute_result"
    }
   ],
   "source": [
    "data['RatingValue'].value_counts()"
   ]
  },
  {
   "cell_type": "code",
   "execution_count": 29,
   "id": "4677765d-bb2a-4a1e-b3f5-3063000995e3",
   "metadata": {},
   "outputs": [],
   "source": [
    "data['Sentiment'] = np.where(data['RatingValue']>=4, 2, np.where(data['RatingValue']==3, 1, 0))"
   ]
  },
  {
   "cell_type": "code",
   "execution_count": 30,
   "id": "fffe6370-3126-4d50-ac65-30b4e95aea3a",
   "metadata": {},
   "outputs": [
    {
     "data": {
      "text/plain": [
       "2    1465\n",
       "1     297\n",
       "0     158\n",
       "Name: Sentiment, dtype: int64"
      ]
     },
     "execution_count": 30,
     "metadata": {},
     "output_type": "execute_result"
    }
   ],
   "source": [
    "data['Sentiment'].value_counts()"
   ]
  },
  {
   "cell_type": "code",
   "execution_count": 31,
   "id": "dd14587d-eabe-48fb-928d-7d33e49d6f3a",
   "metadata": {},
   "outputs": [],
   "source": [
    "data_remove = data[data.Sentiment==2].sample(frac=.8)"
   ]
  },
  {
   "cell_type": "code",
   "execution_count": 32,
   "id": "808f546a-bdb6-432b-9136-550d1789f67f",
   "metadata": {},
   "outputs": [],
   "source": [
    "data_undersample=data.drop(data_remove.index)"
   ]
  },
  {
   "cell_type": "code",
   "execution_count": 33,
   "id": "64aa9035-9531-4864-abf9-d96d08cdd69f",
   "metadata": {},
   "outputs": [
    {
     "data": {
      "text/plain": [
       "1    297\n",
       "2    293\n",
       "0    158\n",
       "Name: Sentiment, dtype: int64"
      ]
     },
     "execution_count": 33,
     "metadata": {},
     "output_type": "execute_result"
    }
   ],
   "source": [
    "data_undersample['Sentiment'].value_counts()"
   ]
  },
  {
   "cell_type": "code",
   "execution_count": 34,
   "id": "3f582ba6-f246-47de-bd76-80845c2ba98e",
   "metadata": {},
   "outputs": [
    {
     "name": "stdout",
     "output_type": "stream",
     "text": [
      "      Sentiment                                             Review\n",
      "0             2  I was tasked with finding a spot for a group d...\n",
      "1             1  Went here with my friends and family. I liked ...\n",
      "2             1  Surprisingly good Flautas! They came as 3 roll...\n",
      "3             2  As a Mexican I always crave authentic Mexican ...\n",
      "12            1  My friend and I decided on Mexican food for di...\n",
      "...         ...                                                ...\n",
      "1893          2  Yes I gave four stars for AYCE for the most af...\n",
      "1895          0  NEVER ORDER FROM THIS RESTAURANT! We order fro...\n",
      "1901          2  Got delivery from here. Ordered the Malaysian ...\n",
      "1907          2  Friendly service, quick delivery and delicious...\n",
      "1915          0  Maybe I didn't know what to expect but the win...\n",
      "\n",
      "[748 rows x 2 columns]\n"
     ]
    }
   ],
   "source": [
    "data_undersample = data_undersample[['Sentiment','Review']]\n",
    "print(data_undersample)"
   ]
  },
  {
   "cell_type": "code",
   "execution_count": 35,
   "id": "f723ffe4-dba6-4ed5-9a54-32c12d8e0091",
   "metadata": {},
   "outputs": [],
   "source": [
    "train,valid = train_test_split(data_undersample, test_size=0.2, random_state=42)\n",
    "train=train.reset_index(drop='True')\n",
    "valid=valid.reset_index(drop='True')\n",
    "\n",
    "train.to_csv('train.csv')\n",
    "valid.to_csv('valid.csv')"
   ]
  },
  {
   "cell_type": "code",
   "execution_count": 36,
   "id": "eec2a7b7-cfaf-4757-ad69-2431e21ea9a3",
   "metadata": {},
   "outputs": [],
   "source": [
    "data_train = pd.read_csv('train.csv')\n",
    "data_valid = pd.read_csv('valid.csv')\n",
    "\n",
    "data_train = data_train[['Sentiment','Review']]\n",
    "data_valid = data_valid[['Sentiment','Review']]"
   ]
  },
  {
   "cell_type": "code",
   "execution_count": 37,
   "id": "50d9c562-0737-406d-9436-99ace34dcbb3",
   "metadata": {},
   "outputs": [
    {
     "name": "stdout",
     "output_type": "stream",
     "text": [
      "     Sentiment                                             Review\n",
      "0            2  Amazing food, really flavourful and especially...\n",
      "1            2  My girlfriend and I have never been to Toronto...\n",
      "2            1  I came here to try out some tacos.  The tacos ...\n",
      "3            2  I wanted to give this pace 5* because of their...\n",
      "4            1  The only reason I visited was because I had a ...\n",
      "..         ...                                                ...\n",
      "145          2  What I got: Eggplant with beef ($14), Chili fi...\n",
      "146          1  We went on a Friday night and the wait was 40 ...\n",
      "147          2  This ramen place is always reliable when you'r...\n",
      "148          0  Came here to celebrate my Friends Birthday, Fo...\n",
      "149          1  I came here for a birthday dinner on Saturday ...\n",
      "\n",
      "[150 rows x 2 columns]\n"
     ]
    }
   ],
   "source": [
    "print(data_valid)"
   ]
  },
  {
   "cell_type": "code",
   "execution_count": 23,
   "id": "7e3bf707-c486-4c05-a881-c7cb88bb0f3a",
   "metadata": {},
   "outputs": [
    {
     "data": {
      "text/plain": [
       "1    239\n",
       "2    228\n",
       "0    131\n",
       "Name: Sentiment, dtype: int64"
      ]
     },
     "execution_count": 23,
     "metadata": {},
     "output_type": "execute_result"
    }
   ],
   "source": [
    "data_train['Sentiment'].value_counts()"
   ]
  },
  {
   "cell_type": "code",
   "execution_count": 24,
   "id": "83950930-0578-4da0-a2dd-40ad34a6fe19",
   "metadata": {},
   "outputs": [],
   "source": [
    "text_clf = Pipeline([\n",
    "    ('vect', CountVectorizer()),\n",
    "    ('tfidf', TfidfTransformer()),\n",
    "    ('clf', SGDClassifier(loss='hinge', penalty='l2',\n",
    "                          alpha=1e-3, random_state=42,\n",
    "                          max_iter=5, tol=None)),\n",
    "])\n",
    "\n",
    "text_clf.fit(data_train['Review'], data_train['Sentiment'])\n",
    "prediction = text_clf.predict(data_valid['Review'])"
   ]
  },
  {
   "cell_type": "code",
   "execution_count": 25,
   "id": "a0690771-cd67-4547-8564-edc1f9ec5900",
   "metadata": {},
   "outputs": [],
   "source": [
    "accuracy=np.mean(prediction == data_valid['Sentiment'])"
   ]
  },
  {
   "cell_type": "code",
   "execution_count": 26,
   "id": "d998ef97-aa78-4284-80fc-28a4b4addef4",
   "metadata": {},
   "outputs": [],
   "source": [
    "f1score=metrics.f1_score(data_valid['Sentiment'], prediction, average='weighted')"
   ]
  },
  {
   "cell_type": "code",
   "execution_count": 27,
   "id": "9cf169f6-3750-450a-b273-f8d95dc9ba6e",
   "metadata": {},
   "outputs": [],
   "source": [
    "confusion=pd.DataFrame(metrics.confusion_matrix(data_valid['Sentiment'], prediction), index=['negative', 'neutral', 'positive'],columns=['negative', 'neutral', 'positive'])"
   ]
  },
  {
   "cell_type": "code",
   "execution_count": 28,
   "id": "7966b0b3-58d8-428f-943f-05d391fced4d",
   "metadata": {},
   "outputs": [
    {
     "name": "stdout",
     "output_type": "stream",
     "text": [
      "accuracy: 0.68\n",
      "\n",
      "F1_score: 0.6792477505754342\n",
      "\n",
      "Confusion_matrix:\n",
      "          negative  neutral  positive\n",
      "negative        17       10         4\n",
      "neutral          6       37        13\n",
      "positive         0       15        48\n"
     ]
    }
   ],
   "source": [
    "print(\"accuracy:\", accuracy)\n",
    "print(\"\")\n",
    "print(\"F1_score:\", f1score)\n",
    "print(\"\")\n",
    "print(\"Confusion_matrix:\")\n",
    "print(confusion)"
   ]
  },
  {
   "cell_type": "code",
   "execution_count": 29,
   "id": "b16a7ea9-e5dc-4157-ad83-818d7e8e3472",
   "metadata": {},
   "outputs": [],
   "source": [
    "from sklearn.model_selection import GridSearchCV\n",
    "parameters = {\n",
    "    'vect__ngram_range': [(1, 1), (1, 2)],\n",
    "    'tfidf__use_idf': (True, False),\n",
    "    'clf__alpha': (1e-2, 1e-3),\n",
    "}"
   ]
  },
  {
   "cell_type": "code",
   "execution_count": 30,
   "id": "5cdc0781-adbe-4f4e-9861-3a067465c65a",
   "metadata": {},
   "outputs": [],
   "source": [
    "gs_clf = GridSearchCV(text_clf, parameters, cv=5, n_jobs=-1)"
   ]
  },
  {
   "cell_type": "code",
   "execution_count": 31,
   "id": "6947986d-3bce-4794-a49f-bb15e6e5869b",
   "metadata": {},
   "outputs": [],
   "source": [
    "gs_clf = gs_clf.fit(data_train['Review'], data_train['Sentiment'])"
   ]
  },
  {
   "cell_type": "code",
   "execution_count": 32,
   "id": "e4da75a5-1478-4eaa-a364-c027e3cf2cfd",
   "metadata": {},
   "outputs": [
    {
     "name": "stdout",
     "output_type": "stream",
     "text": [
      "clf__alpha: 0.001\n",
      "tfidf__use_idf: True\n",
      "vect__ngram_range: (1, 2)\n"
     ]
    }
   ],
   "source": [
    "gs_clf.best_score_\n",
    "\n",
    "for param_name in sorted(parameters.keys()):\n",
    "    print(\"%s: %r\" % (param_name, gs_clf.best_params_[param_name]))"
   ]
  },
  {
   "cell_type": "code",
   "execution_count": 33,
   "id": "dcd04b05-8a75-4d17-9af1-47764c6eaa07",
   "metadata": {},
   "outputs": [
    {
     "data": {
      "text/plain": [
       "0.6304201680672269"
      ]
     },
     "execution_count": 33,
     "metadata": {},
     "output_type": "execute_result"
    }
   ],
   "source": [
    "gs_clf.best_score_"
   ]
  },
  {
   "cell_type": "code",
   "execution_count": 34,
   "id": "67a5011e-d464-49ca-8ed2-313a824d46a8",
   "metadata": {},
   "outputs": [],
   "source": [
    "prediction2 = gs_clf.predict(data_valid['Review'])"
   ]
  },
  {
   "cell_type": "code",
   "execution_count": 35,
   "id": "adbb6460-388f-45d9-8b55-c4c571a6915b",
   "metadata": {},
   "outputs": [],
   "source": [
    "accuracy2=np.mean(prediction2 == data_valid['Sentiment'])"
   ]
  },
  {
   "cell_type": "code",
   "execution_count": 36,
   "id": "2c0a02cc-1446-480a-a2eb-b9b762dd1f51",
   "metadata": {},
   "outputs": [],
   "source": [
    "f1score2=metrics.f1_score(data_valid['Sentiment'], prediction2, average='weighted')"
   ]
  },
  {
   "cell_type": "code",
   "execution_count": 37,
   "id": "e40b4245-1cfc-4218-88eb-df676322aba0",
   "metadata": {},
   "outputs": [],
   "source": [
    "confusion2=pd.DataFrame(metrics.confusion_matrix(data_valid['Sentiment'], prediction2), index=['negative', 'neutral', 'positive'],columns=['negative', 'neutral', 'positive'])"
   ]
  },
  {
   "cell_type": "code",
   "execution_count": 38,
   "id": "543b6d1d-41ec-41fa-b30c-3d550da22963",
   "metadata": {},
   "outputs": [
    {
     "name": "stdout",
     "output_type": "stream",
     "text": [
      "accuracy: 0.6666666666666666\n",
      "\n",
      "F1_score: 0.6592418300653594\n",
      "\n",
      "Confusion_matrix:\n",
      "          negative  neutral  positive\n",
      "negative        12       13         6\n",
      "neutral          2       46         8\n",
      "positive         0       21        42\n"
     ]
    }
   ],
   "source": [
    "print(\"accuracy:\", accuracy2)\n",
    "print(\"\")\n",
    "print(\"F1_score:\", f1score2)\n",
    "print(\"\")\n",
    "print(\"Confusion_matrix:\")\n",
    "print(confusion2)"
   ]
  }
 ],
 "metadata": {
  "kernelspec": {
   "display_name": "Python 3",
   "language": "python",
   "name": "python3"
  },
  "language_info": {
   "codemirror_mode": {
    "name": "ipython",
    "version": 3
   },
   "file_extension": ".py",
   "mimetype": "text/x-python",
   "name": "python",
   "nbconvert_exporter": "python",
   "pygments_lexer": "ipython3",
   "version": "3.9.5"
  }
 },
 "nbformat": 4,
 "nbformat_minor": 5
}
